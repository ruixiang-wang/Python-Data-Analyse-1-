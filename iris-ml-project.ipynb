{
 "cells": [
  {
   "cell_type": "markdown",
   "id": "radio-certificate",
   "metadata": {},
   "source": [
    "# iris-ml-project"
   ]
  },
  {
   "cell_type": "markdown",
   "id": "complimentary-slovak",
   "metadata": {},
   "source": [
    "Data: 2021-12-13<br>\n",
    "Description: This is a Lris-ML-Project."
   ]
  },
  {
   "cell_type": "code",
   "execution_count": 72,
   "id": "2cd727b5",
   "metadata": {},
   "outputs": [
    {
     "name": "stdout",
     "output_type": "stream",
     "text": [
      "Python: 3.8.8 (default, Feb 24 2021, 15:54:32) [MSC v.1928 64 bit (AMD64)]\n"
     ]
    }
   ],
   "source": [
    "# Python version\n",
    "import sys\n",
    "print('Python: {}'.format(sys.version))"
   ]
  },
  {
   "cell_type": "code",
   "execution_count": 73,
   "id": "1a6f5b7b",
   "metadata": {},
   "outputs": [
    {
     "name": "stdout",
     "output_type": "stream",
     "text": [
      "scipy: 1.6.3\n"
     ]
    }
   ],
   "source": [
    "#----Scientific Libraries/Packages---\n",
    "# scipy library\n",
    "import scipy\n",
    "print('scipy: {}'.format(scipy.__version__))"
   ]
  },
  {
   "cell_type": "code",
   "execution_count": 74,
   "id": "3e425dff",
   "metadata": {},
   "outputs": [
    {
     "name": "stdout",
     "output_type": "stream",
     "text": [
      "numpy: 1.19.2\n"
     ]
    }
   ],
   "source": [
    "# numpy library\n",
    "import numpy\n",
    "print('numpy: {}'.format(numpy.__version__))"
   ]
  },
  {
   "cell_type": "code",
   "execution_count": 75,
   "id": "ea41db04",
   "metadata": {},
   "outputs": [
    {
     "name": "stdout",
     "output_type": "stream",
     "text": [
      "pandas: 1.2.3\n"
     ]
    }
   ],
   "source": [
    "# pandas library\n",
    "import pandas\n",
    "print('pandas: {}'.format(pandas.__version__))"
   ]
  },
  {
   "cell_type": "code",
   "execution_count": 76,
   "id": "27925e75",
   "metadata": {},
   "outputs": [
    {
     "name": "stdout",
     "output_type": "stream",
     "text": [
      "matplotlib: 3.4.0\n"
     ]
    }
   ],
   "source": [
    "# matplotlib library\n",
    "import matplotlib\n",
    "print('matplotlib: {}'.format(matplotlib.__version__))"
   ]
  },
  {
   "cell_type": "code",
   "execution_count": 77,
   "id": "4823a2b3",
   "metadata": {},
   "outputs": [
    {
     "name": "stdout",
     "output_type": "stream",
     "text": [
      "sklearn: 0.24.1\n"
     ]
    }
   ],
   "source": [
    "# scikit-learn library\n",
    "import sklearn\n",
    "print('sklearn: {}'.format(sklearn.__version__))"
   ]
  },
  {
   "cell_type": "code",
   "execution_count": 78,
   "id": "df47a77a",
   "metadata": {},
   "outputs": [],
   "source": [
    "# Load All Necessary Libraries/Modules\n",
    "from pandas import read_csv\n",
    "from pandas.plotting import scatter_matrix\n",
    "from matplotlib import pyplot\n",
    "from sklearn.model_selection import train_test_split\n",
    "from sklearn.model_selection import cross_val_score\n",
    "from sklearn.model_selection import StratifiedKFold\n",
    "from sklearn.metrics import classification_report\n",
    "from sklearn.metrics import confusion_matrix\n",
    "from sklearn.metrics import accuracy_score\n",
    "from sklearn.linear_model import LogisticRegression\n",
    "from sklearn.tree import DecisionTreeClassifier\n",
    "from sklearn.neighbors import KNeighborsClassifier\n",
    "from sklearn.discriminant_analysis import LinearDiscriminantAnalysis\n",
    "from sklearn.naive_bayes import GaussianNB\n",
    "from sklearn.svm import SVC"
   ]
  },
  {
   "cell_type": "code",
   "execution_count": 79,
   "id": "8a44f8dc",
   "metadata": {},
   "outputs": [],
   "source": [
    "# Load Iris Dataset (here from CSV file but you can also load from the URL)\n",
    "url = \"./iris.csv\""
   ]
  },
  {
   "cell_type": "code",
   "execution_count": 80,
   "id": "6de65475",
   "metadata": {},
   "outputs": [],
   "source": [
    "#Assign name to each column \n",
    "names = ['sepal-length', 'sepal-width', 'petal-length', 'petal-width', 'class']"
   ]
  },
  {
   "cell_type": "code",
   "execution_count": 81,
   "id": "f5b07fb2",
   "metadata": {},
   "outputs": [],
   "source": [
    "#Load Iris data with column names in an array named dataset\n",
    "dataset = pandas.read_csv(url, names=names)"
   ]
  },
  {
   "cell_type": "code",
   "execution_count": 82,
   "id": "190a8eff",
   "metadata": {},
   "outputs": [
    {
     "name": "stdout",
     "output_type": "stream",
     "text": [
      "(150, 5)\n"
     ]
    }
   ],
   "source": [
    "# Display Shape of dataset (Row and Column)\n",
    "print(dataset.shape)"
   ]
  },
  {
   "cell_type": "code",
   "execution_count": 83,
   "id": "59698349",
   "metadata": {},
   "outputs": [
    {
     "name": "stdout",
     "output_type": "stream",
     "text": [
      "   sepal-length  sepal-width  petal-length  petal-width        class\n",
      "0           5.1          3.5           1.4          0.2  Iris-setosa\n",
      "1           4.9          3.0           1.4          0.2  Iris-setosa\n",
      "2           4.7          3.2           1.3          0.2  Iris-setosa\n",
      "3           4.6          3.1           1.5          0.2  Iris-setosa\n",
      "4           5.0          3.6           1.4          0.2  Iris-setosa\n"
     ]
    }
   ],
   "source": [
    "# Display Head (first 5 Rows) of dataset\n",
    "print(dataset.head())"
   ]
  },
  {
   "cell_type": "code",
   "execution_count": 84,
   "id": "a8ccb9ea",
   "metadata": {},
   "outputs": [
    {
     "name": "stdout",
     "output_type": "stream",
     "text": [
      "   sepal-length  sepal-width  petal-length  petal-width        class\n",
      "0           5.1          3.5           1.4          0.2  Iris-setosa\n",
      "1           4.9          3.0           1.4          0.2  Iris-setosa\n",
      "2           4.7          3.2           1.3          0.2  Iris-setosa\n",
      "3           4.6          3.1           1.5          0.2  Iris-setosa\n",
      "4           5.0          3.6           1.4          0.2  Iris-setosa\n",
      "5           5.4          3.9           1.7          0.4  Iris-setosa\n",
      "6           4.6          3.4           1.4          0.3  Iris-setosa\n",
      "7           5.0          3.4           1.5          0.2  Iris-setosa\n",
      "8           4.4          2.9           1.4          0.2  Iris-setosa\n",
      "9           4.9          3.1           1.5          0.1  Iris-setosa\n"
     ]
    }
   ],
   "source": [
    "# Display Head (Given Number of Rows) of dataset\n",
    "print(dataset.head(10))"
   ]
  },
  {
   "cell_type": "code",
   "execution_count": 85,
   "id": "36d2d4f2",
   "metadata": {},
   "outputs": [
    {
     "name": "stdout",
     "output_type": "stream",
     "text": [
      "       sepal-length  sepal-width  petal-length  petal-width\n",
      "count    150.000000   150.000000    150.000000   150.000000\n",
      "mean       5.843333     3.054000      3.758667     1.198667\n",
      "std        0.828066     0.433594      1.764420     0.763161\n",
      "min        4.300000     2.000000      1.000000     0.100000\n",
      "25%        5.100000     2.800000      1.600000     0.300000\n",
      "50%        5.800000     3.000000      4.350000     1.300000\n",
      "75%        6.400000     3.300000      5.100000     1.800000\n",
      "max        7.900000     4.400000      6.900000     2.500000\n"
     ]
    }
   ],
   "source": [
    "# Display statistical information of Dataset : count, mean, the min and max values\n",
    "print(dataset.describe())"
   ]
  },
  {
   "cell_type": "code",
   "execution_count": 86,
   "id": "af0a987b",
   "metadata": {},
   "outputs": [
    {
     "name": "stdout",
     "output_type": "stream",
     "text": [
      "class\n",
      "Iris-setosa        50\n",
      "Iris-versicolor    50\n",
      "Iris-virginica     50\n",
      "dtype: int64\n"
     ]
    }
   ],
   "source": [
    "#Display the total number of rows of each Class/Label\n",
    "print(dataset.groupby('class').size())"
   ]
  },
  {
   "cell_type": "code",
   "execution_count": 87,
   "id": "747f39e1",
   "metadata": {},
   "outputs": [
    {
     "name": "stderr",
     "output_type": "stream",
     "text": [
      "C:\\Users\\35199\\anaconda3\\envs\\pytorch\\lib\\site-packages\\pandas\\plotting\\_matplotlib\\tools.py:400: MatplotlibDeprecationWarning: \n",
      "The is_first_col function was deprecated in Matplotlib 3.4 and will be removed two minor releases later. Use ax.get_subplotspec().is_first_col() instead.\n",
      "  if ax.is_first_col():\n",
      "C:\\Users\\35199\\anaconda3\\envs\\pytorch\\lib\\site-packages\\pandas\\plotting\\_matplotlib\\tools.py:400: MatplotlibDeprecationWarning: \n",
      "The is_first_col function was deprecated in Matplotlib 3.4 and will be removed two minor releases later. Use ax.get_subplotspec().is_first_col() instead.\n",
      "  if ax.is_first_col():\n"
     ]
    },
    {
     "data": {
      "image/png": "[encoded data removed]",
      "text/plain": [
       "<Figure size 432x288 with 4 Axes>"
      ]
     },
     "metadata": {
      "needs_background": "light"
     },
     "output_type": "display_data"
    }
   ],
   "source": [
    "# Display information of Dataset using different Graphs\n",
    "# 1 Box and Whisker Plots (Univariate involves the analysis of a single variable)\n",
    "dataset.plot(kind='box', subplots=True, layout=(2,2), sharex=False, sharey=False)\n",
    "# Display Graph\n",
    "pyplot.show()"
   ]
  },
  {
   "cell_type": "code",
   "execution_count": 88,
   "id": "65a52edd",
   "metadata": {},
   "outputs": [
    {
     "data": {
      "image/png": "[encoded data removed]",
      "text/plain": [
       "<Figure size 432x288 with 4 Axes>"
      ]
     },
     "metadata": {
      "needs_background": "light"
     },
     "output_type": "display_data"
    }
   ],
   "source": [
    "# Histograms Plots (This is Univariate Analysis - Examines a single variable)\n",
    "dataset.hist()\n",
    "# Display Graph\n",
    "pyplot.show()"
   ]
  },
  {
   "cell_type": "code",
   "execution_count": 89,
   "id": "4170331d",
   "metadata": {},
   "outputs": [
    {
     "data": {
      "image/png": "[encoded data removed]",
      "text/plain": [
       "<Figure size 432x288 with 16 Axes>"
      ]
     },
     "metadata": {
      "needs_background": "light"
     },
     "output_type": "display_data"
    }
   ],
   "source": [
    "# Scatter Matrix Plots  (This is Multivariate Analysis - Examines two or more variables)\n",
    "scatter_matrix(dataset)\n",
    "# Display Graph\n",
    "pyplot.show()"
   ]
  },
  {
   "cell_type": "code",
   "execution_count": 90,
   "id": "4dc7558c",
   "metadata": {},
   "outputs": [],
   "source": [
    "# Divide Dataset in Two (X - Data and Y - Classe/Label)\n",
    "array = dataset.values"
   ]
  },
  {
   "cell_type": "code",
   "execution_count": 91,
   "id": "682f8eca",
   "metadata": {},
   "outputs": [
    {
     "name": "stdout",
     "output_type": "stream",
     "text": [
      "[[5.1 3.5 1.4 0.2]\n",
      " [4.9 3.0 1.4 0.2]\n",
      " [4.7 3.2 1.3 0.2]\n",
      " [4.6 3.1 1.5 0.2]\n",
      " [5.0 3.6 1.4 0.2]\n",
      " [5.4 3.9 1.7 0.4]\n",
      " [4.6 3.4 1.4 0.3]\n",
      " [5.0 3.4 1.5 0.2]\n",
      " [4.4 2.9 1.4 0.2]\n",
      " [4.9 3.1 1.5 0.1]\n",
      " [5.4 3.7 1.5 0.2]\n",
      " [4.8 3.4 1.6 0.2]\n",
      " [4.8 3.0 1.4 0.1]\n",
      " [4.3 3.0 1.1 0.1]\n",
      " [5.8 4.0 1.2 0.2]\n",
      " [5.7 4.4 1.5 0.4]\n",
      " [5.4 3.9 1.3 0.4]\n",
      " [5.1 3.5 1.4 0.3]\n",
      " [5.7 3.8 1.7 0.3]\n",
      " [5.1 3.8 1.5 0.3]\n",
      " [5.4 3.4 1.7 0.2]\n",
      " [5.1 3.7 1.5 0.4]\n",
      " [4.6 3.6 1.0 0.2]\n",
      " [5.1 3.3 1.7 0.5]\n",
      " [4.8 3.4 1.9 0.2]\n",
      " [5.0 3.0 1.6 0.2]\n",
      " [5.0 3.4 1.6 0.4]\n",
      " [5.2 3.5 1.5 0.2]\n",
      " [5.2 3.4 1.4 0.2]\n",
      " [4.7 3.2 1.6 0.2]\n",
      " [4.8 3.1 1.6 0.2]\n",
      " [5.4 3.4 1.5 0.4]\n",
      " [5.2 4.1 1.5 0.1]\n",
      " [5.5 4.2 1.4 0.2]\n",
      " [4.9 3.1 1.5 0.1]\n",
      " [5.0 3.2 1.2 0.2]\n",
      " [5.5 3.5 1.3 0.2]\n",
      " [4.9 3.1 1.5 0.1]\n",
      " [4.4 3.0 1.3 0.2]\n",
      " [5.1 3.4 1.5 0.2]\n",
      " [5.0 3.5 1.3 0.3]\n",
      " [4.5 2.3 1.3 0.3]\n",
      " [4.4 3.2 1.3 0.2]\n",
      " [5.0 3.5 1.6 0.6]\n",
      " [5.1 3.8 1.9 0.4]\n",
      " [4.8 3.0 1.4 0.3]\n",
      " [5.1 3.8 1.6 0.2]\n",
      " [4.6 3.2 1.4 0.2]\n",
      " [5.3 3.7 1.5 0.2]\n",
      " [5.0 3.3 1.4 0.2]\n",
      " [7.0 3.2 4.7 1.4]\n",
      " [6.4 3.2 4.5 1.5]\n",
      " [6.9 3.1 4.9 1.5]\n",
      " [5.5 2.3 4.0 1.3]\n",
      " [6.5 2.8 4.6 1.5]\n",
      " [5.7 2.8 4.5 1.3]\n",
      " [6.3 3.3 4.7 1.6]\n",
      " [4.9 2.4 3.3 1.0]\n",
      " [6.6 2.9 4.6 1.3]\n",
      " [5.2 2.7 3.9 1.4]\n",
      " [5.0 2.0 3.5 1.0]\n",
      " [5.9 3.0 4.2 1.5]\n",
      " [6.0 2.2 4.0 1.0]\n",
      " [6.1 2.9 4.7 1.4]\n",
      " [5.6 2.9 3.6 1.3]\n",
      " [6.7 3.1 4.4 1.4]\n",
      " [5.6 3.0 4.5 1.5]\n",
      " [5.8 2.7 4.1 1.0]\n",
      " [6.2 2.2 4.5 1.5]\n",
      " [5.6 2.5 3.9 1.1]\n",
      " [5.9 3.2 4.8 1.8]\n",
      " [6.1 2.8 4.0 1.3]\n",
      " [6.3 2.5 4.9 1.5]\n",
      " [6.1 2.8 4.7 1.2]\n",
      " [6.4 2.9 4.3 1.3]\n",
      " [6.6 3.0 4.4 1.4]\n",
      " [6.8 2.8 4.8 1.4]\n",
      " [6.7 3.0 5.0 1.7]\n",
      " [6.0 2.9 4.5 1.5]\n",
      " [5.7 2.6 3.5 1.0]\n",
      " [5.5 2.4 3.8 1.1]\n",
      " [5.5 2.4 3.7 1.0]\n",
      " [5.8 2.7 3.9 1.2]\n",
      " [6.0 2.7 5.1 1.6]\n",
      " [5.4 3.0 4.5 1.5]\n",
      " [6.0 3.4 4.5 1.6]\n",
      " [6.7 3.1 4.7 1.5]\n",
      " [6.3 2.3 4.4 1.3]\n",
      " [5.6 3.0 4.1 1.3]\n",
      " [5.5 2.5 4.0 1.3]\n",
      " [5.5 2.6 4.4 1.2]\n",
      " [6.1 3.0 4.6 1.4]\n",
      " [5.8 2.6 4.0 1.2]\n",
      " [5.0 2.3 3.3 1.0]\n",
      " [5.6 2.7 4.2 1.3]\n",
      " [5.7 3.0 4.2 1.2]\n",
      " [5.7 2.9 4.2 1.3]\n",
      " [6.2 2.9 4.3 1.3]\n",
      " [5.1 2.5 3.0 1.1]\n",
      " [5.7 2.8 4.1 1.3]\n",
      " [6.3 3.3 6.0 2.5]\n",
      " [5.8 2.7 5.1 1.9]\n",
      " [7.1 3.0 5.9 2.1]\n",
      " [6.3 2.9 5.6 1.8]\n",
      " [6.5 3.0 5.8 2.2]\n",
      " [7.6 3.0 6.6 2.1]\n",
      " [4.9 2.5 4.5 1.7]\n",
      " [7.3 2.9 6.3 1.8]\n",
      " [6.7 2.5 5.8 1.8]\n",
      " [7.2 3.6 6.1 2.5]\n",
      " [6.5 3.2 5.1 2.0]\n",
      " [6.4 2.7 5.3 1.9]\n",
      " [6.8 3.0 5.5 2.1]\n",
      " [5.7 2.5 5.0 2.0]\n",
      " [5.8 2.8 5.1 2.4]\n",
      " [6.4 3.2 5.3 2.3]\n",
      " [6.5 3.0 5.5 1.8]\n",
      " [7.7 3.8 6.7 2.2]\n",
      " [7.7 2.6 6.9 2.3]\n",
      " [6.0 2.2 5.0 1.5]\n",
      " [6.9 3.2 5.7 2.3]\n",
      " [5.6 2.8 4.9 2.0]\n",
      " [7.7 2.8 6.7 2.0]\n",
      " [6.3 2.7 4.9 1.8]\n",
      " [6.7 3.3 5.7 2.1]\n",
      " [7.2 3.2 6.0 1.8]\n",
      " [6.2 2.8 4.8 1.8]\n",
      " [6.1 3.0 4.9 1.8]\n",
      " [6.4 2.8 5.6 2.1]\n",
      " [7.2 3.0 5.8 1.6]\n",
      " [7.4 2.8 6.1 1.9]\n",
      " [7.9 3.8 6.4 2.0]\n",
      " [6.4 2.8 5.6 2.2]\n",
      " [6.3 2.8 5.1 1.5]\n",
      " [6.1 2.6 5.6 1.4]\n",
      " [7.7 3.0 6.1 2.3]\n",
      " [6.3 3.4 5.6 2.4]\n",
      " [6.4 3.1 5.5 1.8]\n",
      " [6.0 3.0 4.8 1.8]\n",
      " [6.9 3.1 5.4 2.1]\n",
      " [6.7 3.1 5.6 2.4]\n",
      " [6.9 3.1 5.1 2.3]\n",
      " [5.8 2.7 5.1 1.9]\n",
      " [6.8 3.2 5.9 2.3]\n",
      " [6.7 3.3 5.7 2.5]\n",
      " [6.7 3.0 5.2 2.3]\n",
      " [6.3 2.5 5.0 1.9]\n",
      " [6.5 3.0 5.2 2.0]\n",
      " [6.2 3.4 5.4 2.3]\n",
      " [5.9 3.0 5.1 1.8]]\n"
     ]
    }
   ],
   "source": [
    "# Note, we stored data in \"dataset\" in 5 columns (see above)\n",
    "# Get First Part: X - Data (i.e. first 4 columns - 0:4)\n",
    "X = array[:,0:4]\n",
    "print(X)"
   ]
  },
  {
   "cell_type": "code",
   "execution_count": 92,
   "id": "41ee4b45",
   "metadata": {},
   "outputs": [
    {
     "name": "stdout",
     "output_type": "stream",
     "text": [
      "['Iris-setosa' 'Iris-setosa' 'Iris-setosa' 'Iris-setosa' 'Iris-setosa'\n",
      " 'Iris-setosa' 'Iris-setosa' 'Iris-setosa' 'Iris-setosa' 'Iris-setosa'\n",
      " 'Iris-setosa' 'Iris-setosa' 'Iris-setosa' 'Iris-setosa' 'Iris-setosa'\n",
      " 'Iris-setosa' 'Iris-setosa' 'Iris-setosa' 'Iris-setosa' 'Iris-setosa'\n",
      " 'Iris-setosa' 'Iris-setosa' 'Iris-setosa' 'Iris-setosa' 'Iris-setosa'\n",
      " 'Iris-setosa' 'Iris-setosa' 'Iris-setosa' 'Iris-setosa' 'Iris-setosa'\n",
      " 'Iris-setosa' 'Iris-setosa' 'Iris-setosa' 'Iris-setosa' 'Iris-setosa'\n",
      " 'Iris-setosa' 'Iris-setosa' 'Iris-setosa' 'Iris-setosa' 'Iris-setosa'\n",
      " 'Iris-setosa' 'Iris-setosa' 'Iris-setosa' 'Iris-setosa' 'Iris-setosa'\n",
      " 'Iris-setosa' 'Iris-setosa' 'Iris-setosa' 'Iris-setosa' 'Iris-setosa'\n",
      " 'Iris-versicolor' 'Iris-versicolor' 'Iris-versicolor' 'Iris-versicolor'\n",
      " 'Iris-versicolor' 'Iris-versicolor' 'Iris-versicolor' 'Iris-versicolor'\n",
      " 'Iris-versicolor' 'Iris-versicolor' 'Iris-versicolor' 'Iris-versicolor'\n",
      " 'Iris-versicolor' 'Iris-versicolor' 'Iris-versicolor' 'Iris-versicolor'\n",
      " 'Iris-versicolor' 'Iris-versicolor' 'Iris-versicolor' 'Iris-versicolor'\n",
      " 'Iris-versicolor' 'Iris-versicolor' 'Iris-versicolor' 'Iris-versicolor'\n",
      " 'Iris-versicolor' 'Iris-versicolor' 'Iris-versicolor' 'Iris-versicolor'\n",
      " 'Iris-versicolor' 'Iris-versicolor' 'Iris-versicolor' 'Iris-versicolor'\n",
      " 'Iris-versicolor' 'Iris-versicolor' 'Iris-versicolor' 'Iris-versicolor'\n",
      " 'Iris-versicolor' 'Iris-versicolor' 'Iris-versicolor' 'Iris-versicolor'\n",
      " 'Iris-versicolor' 'Iris-versicolor' 'Iris-versicolor' 'Iris-versicolor'\n",
      " 'Iris-versicolor' 'Iris-versicolor' 'Iris-versicolor' 'Iris-versicolor'\n",
      " 'Iris-versicolor' 'Iris-versicolor' 'Iris-virginica' 'Iris-virginica'\n",
      " 'Iris-virginica' 'Iris-virginica' 'Iris-virginica' 'Iris-virginica'\n",
      " 'Iris-virginica' 'Iris-virginica' 'Iris-virginica' 'Iris-virginica'\n",
      " 'Iris-virginica' 'Iris-virginica' 'Iris-virginica' 'Iris-virginica'\n",
      " 'Iris-virginica' 'Iris-virginica' 'Iris-virginica' 'Iris-virginica'\n",
      " 'Iris-virginica' 'Iris-virginica' 'Iris-virginica' 'Iris-virginica'\n",
      " 'Iris-virginica' 'Iris-virginica' 'Iris-virginica' 'Iris-virginica'\n",
      " 'Iris-virginica' 'Iris-virginica' 'Iris-virginica' 'Iris-virginica'\n",
      " 'Iris-virginica' 'Iris-virginica' 'Iris-virginica' 'Iris-virginica'\n",
      " 'Iris-virginica' 'Iris-virginica' 'Iris-virginica' 'Iris-virginica'\n",
      " 'Iris-virginica' 'Iris-virginica' 'Iris-virginica' 'Iris-virginica'\n",
      " 'Iris-virginica' 'Iris-virginica' 'Iris-virginica' 'Iris-virginica'\n",
      " 'Iris-virginica' 'Iris-virginica' 'Iris-virginica' 'Iris-virginica']\n"
     ]
    }
   ],
   "source": [
    "# Get Second Part: Y - Classe/Label (i.e. last 5 column - 4)\n",
    "Y = array[:,4]\n",
    "print(Y)"
   ]
  },
  {
   "cell_type": "code",
   "execution_count": 93,
   "id": "1d583c12",
   "metadata": {},
   "outputs": [],
   "source": [
    "# Divide Complete Dataset into Training Dataset (80% OR 0.80) and Testing/Validation Datasets (20% OR 0.20)\n",
    "validation_size = 0.20\n",
    "seed = 7 \n",
    "X_train, X_validation, Y_train, Y_validation = train_test_split(X, Y, test_size=validation_size, random_state=seed)"
   ]
  },
  {
   "cell_type": "code",
   "execution_count": 94,
   "id": "45378cf5",
   "metadata": {},
   "outputs": [
    {
     "name": "stdout",
     "output_type": "stream",
     "text": [
      "[[6.2 2.8 4.8 1.8]\n",
      " [5.7 2.6 3.5 1.0]\n",
      " [4.6 3.6 1.0 0.2]\n",
      " [6.9 3.1 5.4 2.1]\n",
      " [6.4 2.9 4.3 1.3]\n",
      " [4.8 3.0 1.4 0.3]\n",
      " [5.5 3.5 1.3 0.2]\n",
      " [5.4 3.9 1.7 0.4]\n",
      " [5.1 3.5 1.4 0.3]\n",
      " [7.1 3.0 5.9 2.1]\n",
      " [6.7 3.3 5.7 2.1]\n",
      " [6.8 2.8 4.8 1.4]\n",
      " [6.4 2.8 5.6 2.2]\n",
      " [6.5 3.0 5.5 1.8]\n",
      " [5.7 3.0 4.2 1.2]\n",
      " [5.0 3.3 1.4 0.2]\n",
      " [6.7 3.1 4.4 1.4]\n",
      " [6.0 2.2 4.0 1.0]\n",
      " [6.4 2.7 5.3 1.9]\n",
      " [4.7 3.2 1.6 0.2]\n",
      " [4.6 3.1 1.5 0.2]\n",
      " [5.1 3.4 1.5 0.2]\n",
      " [7.7 3.8 6.7 2.2]\n",
      " [4.3 3.0 1.1 0.1]\n",
      " [6.3 3.3 6.0 2.5]\n",
      " [5.5 2.4 3.7 1.0]\n",
      " [5.0 2.0 3.5 1.0]\n",
      " [6.5 2.8 4.6 1.5]\n",
      " [5.0 3.4 1.6 0.4]\n",
      " [4.4 2.9 1.4 0.2]\n",
      " [5.0 3.5 1.6 0.6]\n",
      " [6.7 3.1 4.7 1.5]\n",
      " [7.3 2.9 6.3 1.8]\n",
      " [5.5 2.6 4.4 1.2]\n",
      " [5.2 2.7 3.9 1.4]\n",
      " [5.7 4.4 1.5 0.4]\n",
      " [7.2 3.2 6.0 1.8]\n",
      " [5.4 3.4 1.7 0.2]\n",
      " [5.8 4.0 1.2 0.2]\n",
      " [6.1 2.6 5.6 1.4]\n",
      " [5.7 2.5 5.0 2.0]\n",
      " [4.8 3.0 1.4 0.1]\n",
      " [6.5 3.0 5.8 2.2]\n",
      " [4.6 3.2 1.4 0.2]\n",
      " [6.6 2.9 4.6 1.3]\n",
      " [6.7 3.0 5.2 2.3]\n",
      " [6.1 3.0 4.6 1.4]\n",
      " [5.7 3.8 1.7 0.3]\n",
      " [7.0 3.2 4.7 1.4]\n",
      " [4.7 3.2 1.3 0.2]\n",
      " [6.5 3.0 5.2 2.0]\n",
      " [7.7 2.6 6.9 2.3]\n",
      " [4.9 2.4 3.3 1.0]\n",
      " [4.8 3.1 1.6 0.2]\n",
      " [5.5 4.2 1.4 0.2]\n",
      " [5.6 3.0 4.1 1.3]\n",
      " [6.4 3.2 5.3 2.3]\n",
      " [5.2 3.5 1.5 0.2]\n",
      " [7.9 3.8 6.4 2.0]\n",
      " [5.8 2.8 5.1 2.4]\n",
      " [5.7 2.9 4.2 1.3]\n",
      " [5.1 3.7 1.5 0.4]\n",
      " [5.1 2.5 3.0 1.1]\n",
      " [5.0 3.4 1.5 0.2]\n",
      " [7.7 2.8 6.7 2.0]\n",
      " [7.6 3.0 6.6 2.1]\n",
      " [5.0 3.2 1.2 0.2]\n",
      " [5.4 3.7 1.5 0.2]\n",
      " [6.7 3.3 5.7 2.5]\n",
      " [6.1 2.8 4.0 1.3]\n",
      " [6.3 2.5 5.0 1.9]\n",
      " [7.4 2.8 6.1 1.9]\n",
      " [5.0 2.3 3.3 1.0]\n",
      " [5.4 3.4 1.5 0.4]\n",
      " [5.4 3.9 1.3 0.4]\n",
      " [5.6 2.8 4.9 2.0]\n",
      " [4.9 3.0 1.4 0.2]\n",
      " [5.3 3.7 1.5 0.2]\n",
      " [6.0 2.7 5.1 1.6]\n",
      " [6.8 3.2 5.9 2.3]\n",
      " [6.2 3.4 5.4 2.3]\n",
      " [5.7 2.8 4.1 1.3]\n",
      " [6.3 2.3 4.4 1.3]\n",
      " [4.9 3.1 1.5 0.1]\n",
      " [6.9 3.1 5.1 2.3]\n",
      " [5.0 3.6 1.4 0.2]\n",
      " [4.4 3.0 1.3 0.2]\n",
      " [6.0 2.9 4.5 1.5]\n",
      " [6.1 2.8 4.7 1.2]\n",
      " [6.4 2.8 5.6 2.1]\n",
      " [4.9 3.1 1.5 0.1]\n",
      " [5.6 2.9 3.6 1.3]\n",
      " [5.9 3.0 4.2 1.5]\n",
      " [6.3 2.7 4.9 1.8]\n",
      " [6.8 3.0 5.5 2.1]\n",
      " [5.5 2.3 4.0 1.3]\n",
      " [6.3 2.8 5.1 1.5]\n",
      " [4.8 3.4 1.9 0.2]\n",
      " [6.3 3.3 4.7 1.6]\n",
      " [5.6 2.5 3.9 1.1]\n",
      " [5.1 3.8 1.9 0.4]\n",
      " [5.1 3.8 1.5 0.3]\n",
      " [4.6 3.4 1.4 0.3]\n",
      " [5.7 2.8 4.5 1.3]\n",
      " [6.6 3.0 4.4 1.4]\n",
      " [5.1 3.5 1.4 0.2]\n",
      " [7.7 3.0 6.1 2.3]\n",
      " [6.1 3.0 4.9 1.8]\n",
      " [6.2 2.2 4.5 1.5]\n",
      " [6.3 3.4 5.6 2.4]\n",
      " [4.4 3.2 1.3 0.2]\n",
      " [6.5 3.2 5.1 2.0]\n",
      " [5.5 2.5 4.0 1.3]\n",
      " [6.3 2.5 4.9 1.5]\n",
      " [5.1 3.3 1.7 0.5]\n",
      " [5.8 2.7 5.1 1.9]\n",
      " [5.8 2.6 4.0 1.2]\n",
      " [6.3 2.9 5.6 1.8]\n",
      " [5.8 2.7 4.1 1.0]\n",
      " [5.0 3.0 1.6 0.2]]\n"
     ]
    }
   ],
   "source": [
    "# Display X - Data Part of Training Dataset (80%)\n",
    "print(X_train)"
   ]
  },
  {
   "cell_type": "code",
   "execution_count": 95,
   "id": "b92f203c",
   "metadata": {},
   "outputs": [
    {
     "name": "stdout",
     "output_type": "stream",
     "text": [
      "['Iris-virginica' 'Iris-versicolor' 'Iris-setosa' 'Iris-virginica'\n",
      " 'Iris-versicolor' 'Iris-setosa' 'Iris-setosa' 'Iris-setosa' 'Iris-setosa'\n",
      " 'Iris-virginica' 'Iris-virginica' 'Iris-versicolor' 'Iris-virginica'\n",
      " 'Iris-virginica' 'Iris-versicolor' 'Iris-setosa' 'Iris-versicolor'\n",
      " 'Iris-versicolor' 'Iris-virginica' 'Iris-setosa' 'Iris-setosa'\n",
      " 'Iris-setosa' 'Iris-virginica' 'Iris-setosa' 'Iris-virginica'\n",
      " 'Iris-versicolor' 'Iris-versicolor' 'Iris-versicolor' 'Iris-setosa'\n",
      " 'Iris-setosa' 'Iris-setosa' 'Iris-versicolor' 'Iris-virginica'\n",
      " 'Iris-versicolor' 'Iris-versicolor' 'Iris-setosa' 'Iris-virginica'\n",
      " 'Iris-setosa' 'Iris-setosa' 'Iris-virginica' 'Iris-virginica'\n",
      " 'Iris-setosa' 'Iris-virginica' 'Iris-setosa' 'Iris-versicolor'\n",
      " 'Iris-virginica' 'Iris-versicolor' 'Iris-setosa' 'Iris-versicolor'\n",
      " 'Iris-setosa' 'Iris-virginica' 'Iris-virginica' 'Iris-versicolor'\n",
      " 'Iris-setosa' 'Iris-setosa' 'Iris-versicolor' 'Iris-virginica'\n",
      " 'Iris-setosa' 'Iris-virginica' 'Iris-virginica' 'Iris-versicolor'\n",
      " 'Iris-setosa' 'Iris-versicolor' 'Iris-setosa' 'Iris-virginica'\n",
      " 'Iris-virginica' 'Iris-setosa' 'Iris-setosa' 'Iris-virginica'\n",
      " 'Iris-versicolor' 'Iris-virginica' 'Iris-virginica' 'Iris-versicolor'\n",
      " 'Iris-setosa' 'Iris-setosa' 'Iris-virginica' 'Iris-setosa' 'Iris-setosa'\n",
      " 'Iris-versicolor' 'Iris-virginica' 'Iris-virginica' 'Iris-versicolor'\n",
      " 'Iris-versicolor' 'Iris-setosa' 'Iris-virginica' 'Iris-setosa'\n",
      " 'Iris-setosa' 'Iris-versicolor' 'Iris-versicolor' 'Iris-virginica'\n",
      " 'Iris-setosa' 'Iris-versicolor' 'Iris-versicolor' 'Iris-virginica'\n",
      " 'Iris-virginica' 'Iris-versicolor' 'Iris-virginica' 'Iris-setosa'\n",
      " 'Iris-versicolor' 'Iris-versicolor' 'Iris-setosa' 'Iris-setosa'\n",
      " 'Iris-setosa' 'Iris-versicolor' 'Iris-versicolor' 'Iris-setosa'\n",
      " 'Iris-virginica' 'Iris-virginica' 'Iris-versicolor' 'Iris-virginica'\n",
      " 'Iris-setosa' 'Iris-virginica' 'Iris-versicolor' 'Iris-versicolor'\n",
      " 'Iris-setosa' 'Iris-virginica' 'Iris-versicolor' 'Iris-virginica'\n",
      " 'Iris-versicolor' 'Iris-setosa']\n"
     ]
    }
   ],
   "source": [
    "# Display Y - Classe/Label Part of Training Dataset (80%)\n",
    "print(Y_train)"
   ]
  },
  {
   "cell_type": "code",
   "execution_count": 96,
   "id": "1be04a83",
   "metadata": {},
   "outputs": [
    {
     "name": "stdout",
     "output_type": "stream",
     "text": [
      "[[5.9 3.0 5.1 1.8]\n",
      " [5.4 3.0 4.5 1.5]\n",
      " [5.0 3.5 1.3 0.3]\n",
      " [5.6 3.0 4.5 1.5]\n",
      " [4.9 2.5 4.5 1.7]\n",
      " [4.5 2.3 1.3 0.3]\n",
      " [6.9 3.1 4.9 1.5]\n",
      " [5.6 2.7 4.2 1.3]\n",
      " [4.8 3.4 1.6 0.2]\n",
      " [6.4 3.2 4.5 1.5]\n",
      " [6.7 3.0 5.0 1.7]\n",
      " [6.0 3.4 4.5 1.6]\n",
      " [5.2 4.1 1.5 0.1]\n",
      " [7.2 3.6 6.1 2.5]\n",
      " [5.2 3.4 1.4 0.2]\n",
      " [5.9 3.2 4.8 1.8]\n",
      " [6.7 2.5 5.8 1.8]\n",
      " [6.4 3.1 5.5 1.8]\n",
      " [5.1 3.8 1.6 0.2]\n",
      " [4.9 3.1 1.5 0.1]\n",
      " [5.8 2.7 3.9 1.2]\n",
      " [6.9 3.2 5.7 2.3]\n",
      " [6.1 2.9 4.7 1.4]\n",
      " [6.0 2.2 5.0 1.5]\n",
      " [7.2 3.0 5.8 1.6]\n",
      " [6.0 3.0 4.8 1.8]\n",
      " [6.2 2.9 4.3 1.3]\n",
      " [5.5 2.4 3.8 1.1]\n",
      " [5.8 2.7 5.1 1.9]\n",
      " [6.7 3.1 5.6 2.4]]\n"
     ]
    }
   ],
   "source": [
    "# Display X - Data Part of Testing/Validation Dataset (20%)\n",
    "print(X_validation)"
   ]
  },
  {
   "cell_type": "code",
   "execution_count": 97,
   "id": "d81d1f32",
   "metadata": {},
   "outputs": [
    {
     "name": "stdout",
     "output_type": "stream",
     "text": [
      "['Iris-virginica' 'Iris-versicolor' 'Iris-setosa' 'Iris-versicolor'\n",
      " 'Iris-virginica' 'Iris-setosa' 'Iris-versicolor' 'Iris-versicolor'\n",
      " 'Iris-setosa' 'Iris-versicolor' 'Iris-versicolor' 'Iris-versicolor'\n",
      " 'Iris-setosa' 'Iris-virginica' 'Iris-setosa' 'Iris-versicolor'\n",
      " 'Iris-virginica' 'Iris-virginica' 'Iris-setosa' 'Iris-setosa'\n",
      " 'Iris-versicolor' 'Iris-virginica' 'Iris-versicolor' 'Iris-virginica'\n",
      " 'Iris-virginica' 'Iris-virginica' 'Iris-versicolor' 'Iris-versicolor'\n",
      " 'Iris-virginica' 'Iris-virginica']\n"
     ]
    }
   ],
   "source": [
    "# Display Y - Classe/Label Part of Testing/Validation Dataset (20%)\n",
    "print(Y_validation)"
   ]
  },
  {
   "cell_type": "code",
   "execution_count": 98,
   "id": "fec3bfac",
   "metadata": {},
   "outputs": [
    {
     "name": "stdout",
     "output_type": "stream",
     "text": [
      "LR: 0.966667 (0.040825)\n",
      "LDA: 0.975000 (0.053359)\n",
      "KNN: 0.983333 (0.050000)\n",
      "CART: 0.991667 (0.025000)\n",
      "NB: 0.975000 (0.038188)\n",
      "SVM: 0.991667 (0.025000)\n"
     ]
    }
   ],
   "source": [
    "# Train Each Algorithm on 80% Dataset \n",
    "models = []\n",
    "models.append(('LR', LogisticRegression(solver='liblinear', multi_class='ovr')))\n",
    "models.append(('LDA', LinearDiscriminantAnalysis()))\n",
    "models.append(('KNN', KNeighborsClassifier()))\n",
    "models.append(('CART', DecisionTreeClassifier()))\n",
    "models.append(('NB', GaussianNB()))\n",
    "models.append(('SVM', SVC(gamma='auto')))\n",
    "# evaluate each model in turn\n",
    "results = []\n",
    "names = []\n",
    "for name, model in models:\n",
    "\tkfold = StratifiedKFold(n_splits=10, random_state=1, shuffle=True)\n",
    "\tcv_results = cross_val_score(model, X_train, Y_train, cv=kfold, scoring='accuracy')\n",
    "\tresults.append(cv_results)\n",
    "\tnames.append(name)\n",
    "\tprint('%s: %f (%f)' % (name, cv_results.mean(), cv_results.std()))"
   ]
  },
  {
   "cell_type": "code",
   "execution_count": 99,
   "id": "e52bb5e6",
   "metadata": {},
   "outputs": [
    {
     "data": {
      "image/png": "[encoded data removed]",
      "text/plain": [
       "<Figure size 432x288 with 1 Axes>"
      ]
     },
     "metadata": {
      "needs_background": "light"
     },
     "output_type": "display_data"
    }
   ],
   "source": [
    "# Compare Algorithms\n",
    "pyplot.boxplot(results, labels=names)\n",
    "pyplot.title('Algorithm Comparison')\n",
    "pyplot.show()"
   ]
  },
  {
   "cell_type": "code",
   "execution_count": 100,
   "id": "4d7f8d39",
   "metadata": {},
   "outputs": [],
   "source": [
    "# Make predictions on validation dataset using KNN\n",
    "knn = KNeighborsClassifier()\n",
    "knn.fit(X_train, Y_train)\n",
    "predictions = knn.predict(X_validation)"
   ]
  },
  {
   "cell_type": "code",
   "execution_count": 101,
   "id": "9a1a33a8",
   "metadata": {},
   "outputs": [
    {
     "name": "stdout",
     "output_type": "stream",
     "text": [
      "0.9\n",
      "[[ 7  0  0]\n",
      " [ 0 11  1]\n",
      " [ 0  2  9]]\n",
      "                 precision    recall  f1-score   support\n",
      "\n",
      "    Iris-setosa       1.00      1.00      1.00         7\n",
      "Iris-versicolor       0.85      0.92      0.88        12\n",
      " Iris-virginica       0.90      0.82      0.86        11\n",
      "\n",
      "       accuracy                           0.90        30\n",
      "      macro avg       0.92      0.91      0.91        30\n",
      "   weighted avg       0.90      0.90      0.90        30\n",
      "\n"
     ]
    }
   ],
   "source": [
    "#Evaluate Predictions\n",
    "print(accuracy_score(Y_validation, predictions))\n",
    "print(confusion_matrix(Y_validation, predictions))\n",
    "print(classification_report(Y_validation, predictions))"
   ]
  },
  {
   "cell_type": "code",
   "execution_count": 102,
   "id": "0b64e6be",
   "metadata": {},
   "outputs": [],
   "source": [
    "# Make predictions on validation dataset using SVC\n",
    "model = SVC(gamma='auto')\n",
    "model.fit(X_train, Y_train)\n",
    "predictions = model.predict(X_validation)"
   ]
  },
  {
   "cell_type": "code",
   "execution_count": 103,
   "id": "cc5bcfd7",
   "metadata": {},
   "outputs": [
    {
     "name": "stdout",
     "output_type": "stream",
     "text": [
      "0.9333333333333333\n",
      "[[ 7  0  0]\n",
      " [ 0 10  2]\n",
      " [ 0  0 11]]\n",
      "                 precision    recall  f1-score   support\n",
      "\n",
      "    Iris-setosa       1.00      1.00      1.00         7\n",
      "Iris-versicolor       1.00      0.83      0.91        12\n",
      " Iris-virginica       0.85      1.00      0.92        11\n",
      "\n",
      "       accuracy                           0.93        30\n",
      "      macro avg       0.95      0.94      0.94        30\n",
      "   weighted avg       0.94      0.93      0.93        30\n",
      "\n"
     ]
    }
   ],
   "source": [
    "#Evaluate Predictions\n",
    "print(accuracy_score(Y_validation, predictions))\n",
    "print(confusion_matrix(Y_validation, predictions))\n",
    "print(classification_report(Y_validation, predictions))"
   ]
  },
  {
   "cell_type": "markdown",
   "id": "printable-retro",
   "metadata": {},
   "source": [
    "Here we start."
   ]
  },
  {
   "cell_type": "markdown",
   "id": "phantom-discount",
   "metadata": {},
   "source": [
    "Part1: Test the prediction accuracy of four remaining models/algorithms,"
   ]
  },
  {
   "cell_type": "markdown",
   "id": "endangered-excellence",
   "metadata": {},
   "source": [
    "(1)First, we use LogisticRegression."
   ]
  },
  {
   "cell_type": "code",
   "execution_count": null,
   "id": "extraordinary-lighter",
   "metadata": {},
   "outputs": [],
   "source": []
  },
  {
   "cell_type": "code",
   "execution_count": 104,
   "id": "radio-joint",
   "metadata": {},
   "outputs": [],
   "source": [
    "# Make predictions on validation dataset using LR\n",
    "model =  LogisticRegression(solver='liblinear', multi_class='ovr')\n",
    "model.fit(X_train, Y_train)\n",
    "predictions = model.predict(X_validation)"
   ]
  },
  {
   "cell_type": "code",
   "execution_count": 105,
   "id": "comparable-share",
   "metadata": {},
   "outputs": [
    {
     "name": "stdout",
     "output_type": "stream",
     "text": [
      "0.8\n",
      "[[ 7  0  0]\n",
      " [ 0  7  5]\n",
      " [ 0  1 10]]\n",
      "                 precision    recall  f1-score   support\n",
      "\n",
      "    Iris-setosa       1.00      1.00      1.00         7\n",
      "Iris-versicolor       0.88      0.58      0.70        12\n",
      " Iris-virginica       0.67      0.91      0.77        11\n",
      "\n",
      "       accuracy                           0.80        30\n",
      "      macro avg       0.85      0.83      0.82        30\n",
      "   weighted avg       0.83      0.80      0.80        30\n",
      "\n"
     ]
    }
   ],
   "source": [
    "#Evaluate Predictions\n",
    "print(accuracy_score(Y_validation, predictions))\n",
    "print(confusion_matrix(Y_validation, predictions))\n",
    "print(classification_report(Y_validation, predictions))"
   ]
  },
  {
   "cell_type": "markdown",
   "id": "understood-dealing",
   "metadata": {},
   "source": [
    "it seems accuracy for LogisticRegression is 80%, just so so."
   ]
  },
  {
   "cell_type": "markdown",
   "id": "entitled-wagner",
   "metadata": {},
   "source": [
    "(2)Then, we use LinearDiscriminantAnalysis."
   ]
  },
  {
   "cell_type": "code",
   "execution_count": 106,
   "id": "right-cherry",
   "metadata": {},
   "outputs": [],
   "source": [
    "# Make predictions on validation dataset using LDA\n",
    "model = LinearDiscriminantAnalysis()\n",
    "model.fit(X_train, Y_train)\n",
    "predictions = model.predict(X_validation)"
   ]
  },
  {
   "cell_type": "code",
   "execution_count": 107,
   "id": "choice-telling",
   "metadata": {},
   "outputs": [
    {
     "name": "stdout",
     "output_type": "stream",
     "text": [
      "0.9666666666666667\n",
      "[[ 7  0  0]\n",
      " [ 0 11  1]\n",
      " [ 0  0 11]]\n",
      "                 precision    recall  f1-score   support\n",
      "\n",
      "    Iris-setosa       1.00      1.00      1.00         7\n",
      "Iris-versicolor       1.00      0.92      0.96        12\n",
      " Iris-virginica       0.92      1.00      0.96        11\n",
      "\n",
      "       accuracy                           0.97        30\n",
      "      macro avg       0.97      0.97      0.97        30\n",
      "   weighted avg       0.97      0.97      0.97        30\n",
      "\n"
     ]
    }
   ],
   "source": [
    "#Evaluate Predictions\n",
    "print(accuracy_score(Y_validation, predictions))\n",
    "print(confusion_matrix(Y_validation, predictions))\n",
    "print(classification_report(Y_validation, predictions))"
   ]
  },
  {
   "cell_type": "markdown",
   "id": "floppy-dialogue",
   "metadata": {},
   "source": [
    "Amazing, it has accuracy for 96.67%, very high"
   ]
  },
  {
   "cell_type": "markdown",
   "id": "korean-rapid",
   "metadata": {},
   "source": [
    "(3)Now, we use DecisionTreeClassifier."
   ]
  },
  {
   "cell_type": "code",
   "execution_count": 108,
   "id": "willing-vertex",
   "metadata": {},
   "outputs": [],
   "source": [
    "# Make predictions on validation dataset using CART\n",
    "model =  DecisionTreeClassifier()\n",
    "model.fit(X_train, Y_train)\n",
    "predictions = model.predict(X_validation)"
   ]
  },
  {
   "cell_type": "code",
   "execution_count": 109,
   "id": "flexible-haven",
   "metadata": {},
   "outputs": [
    {
     "name": "stdout",
     "output_type": "stream",
     "text": [
      "0.8666666666666667\n",
      "[[ 7  0  0]\n",
      " [ 0 10  2]\n",
      " [ 0  2  9]]\n",
      "                 precision    recall  f1-score   support\n",
      "\n",
      "    Iris-setosa       1.00      1.00      1.00         7\n",
      "Iris-versicolor       0.83      0.83      0.83        12\n",
      " Iris-virginica       0.82      0.82      0.82        11\n",
      "\n",
      "       accuracy                           0.87        30\n",
      "      macro avg       0.88      0.88      0.88        30\n",
      "   weighted avg       0.87      0.87      0.87        30\n",
      "\n"
     ]
    }
   ],
   "source": [
    "#Evaluate Predictions\n",
    "print(accuracy_score(Y_validation, predictions))\n",
    "print(confusion_matrix(Y_validation, predictions))\n",
    "print(classification_report(Y_validation, predictions))"
   ]
  },
  {
   "cell_type": "markdown",
   "id": "durable-cathedral",
   "metadata": {},
   "source": [
    "emm, it have accuracy for 90%, no bad."
   ]
  },
  {
   "cell_type": "markdown",
   "id": "unlike-alexander",
   "metadata": {},
   "source": [
    "(4)Now, we use GaussianNB."
   ]
  },
  {
   "cell_type": "code",
   "execution_count": 110,
   "id": "spectacular-carol",
   "metadata": {},
   "outputs": [],
   "source": [
    "# Make predictions on validation dataset using NB\n",
    "model =  GaussianNB()\n",
    "model.fit(X_train, Y_train)\n",
    "predictions = model.predict(X_validation)"
   ]
  },
  {
   "cell_type": "code",
   "execution_count": 111,
   "id": "married-claim",
   "metadata": {},
   "outputs": [
    {
     "name": "stdout",
     "output_type": "stream",
     "text": [
      "0.8333333333333334\n",
      "[[7 0 0]\n",
      " [0 9 3]\n",
      " [0 2 9]]\n",
      "                 precision    recall  f1-score   support\n",
      "\n",
      "    Iris-setosa       1.00      1.00      1.00         7\n",
      "Iris-versicolor       0.82      0.75      0.78        12\n",
      " Iris-virginica       0.75      0.82      0.78        11\n",
      "\n",
      "       accuracy                           0.83        30\n",
      "      macro avg       0.86      0.86      0.86        30\n",
      "   weighted avg       0.84      0.83      0.83        30\n",
      "\n"
     ]
    }
   ],
   "source": [
    "#Evaluate Predictions\n",
    "print(accuracy_score(Y_validation, predictions))\n",
    "print(confusion_matrix(Y_validation, predictions))\n",
    "print(classification_report(Y_validation, predictions))"
   ]
  },
  {
   "cell_type": "markdown",
   "id": "swedish-cruise",
   "metadata": {},
   "source": [
    "it has accuray for 83.33%, a little bad."
   ]
  },
  {
   "cell_type": "markdown",
   "id": "third-resource",
   "metadata": {},
   "source": [
    "OK, it seems Task1 are finished."
   ]
  },
  {
   "cell_type": "markdown",
   "id": "obvious-playback",
   "metadata": {},
   "source": [
    "Now, start our Task2."
   ]
  },
  {
   "cell_type": "markdown",
   "id": "relative-sudan",
   "metadata": {},
   "source": [
    "Task2: Add 4 or more Classification Algorithms, and check their training and testing results. "
   ]
  },
  {
   "cell_type": "markdown",
   "id": "armed-mexican",
   "metadata": {},
   "source": [
    "Let's find out what modle we have in sklearn."
   ]
  },
  {
   "cell_type": "code",
   "execution_count": 112,
   "id": "atomic-geography",
   "metadata": {},
   "outputs": [
    {
     "data": {
      "text/plain": [
       "['ARDRegression',\n",
       " 'BayesianRidge',\n",
       " 'ElasticNet',\n",
       " 'ElasticNetCV',\n",
       " 'GammaRegressor',\n",
       " 'Hinge',\n",
       " 'Huber',\n",
       " 'HuberRegressor',\n",
       " 'Lars',\n",
       " 'LarsCV',\n",
       " 'Lasso',\n",
       " 'LassoCV',\n",
       " 'LassoLars',\n",
       " 'LassoLarsCV',\n",
       " 'LassoLarsIC',\n",
       " 'LinearRegression',\n",
       " 'Log',\n",
       " 'LogisticRegression',\n",
       " 'LogisticRegressionCV',\n",
       " 'ModifiedHuber',\n",
       " 'MultiTaskElasticNet',\n",
       " 'MultiTaskElasticNetCV',\n",
       " 'MultiTaskLasso',\n",
       " 'MultiTaskLassoCV',\n",
       " 'OrthogonalMatchingPursuit',\n",
       " 'OrthogonalMatchingPursuitCV',\n",
       " 'PassiveAggressiveClassifier',\n",
       " 'PassiveAggressiveRegressor',\n",
       " 'Perceptron',\n",
       " 'PoissonRegressor',\n",
       " 'RANSACRegressor',\n",
       " 'Ridge',\n",
       " 'RidgeCV',\n",
       " 'RidgeClassifier',\n",
       " 'RidgeClassifierCV',\n",
       " 'SGDClassifier',\n",
       " 'SGDRegressor',\n",
       " 'SquaredLoss',\n",
       " 'TheilSenRegressor',\n",
       " 'TweedieRegressor',\n",
       " '__all__',\n",
       " '__builtins__',\n",
       " '__cached__',\n",
       " '__doc__',\n",
       " '__file__',\n",
       " '__loader__',\n",
       " '__name__',\n",
       " '__package__',\n",
       " '__path__',\n",
       " '__spec__',\n",
       " '_base',\n",
       " '_bayes',\n",
       " '_cd_fast',\n",
       " '_coordinate_descent',\n",
       " '_glm',\n",
       " '_huber',\n",
       " '_least_angle',\n",
       " '_logistic',\n",
       " '_omp',\n",
       " '_passive_aggressive',\n",
       " '_perceptron',\n",
       " '_ransac',\n",
       " '_ridge',\n",
       " '_sag',\n",
       " '_sag_fast',\n",
       " '_sgd_fast',\n",
       " '_stochastic_gradient',\n",
       " '_theil_sen',\n",
       " 'enet_path',\n",
       " 'lars_path',\n",
       " 'lars_path_gram',\n",
       " 'lasso_path',\n",
       " 'orthogonal_mp',\n",
       " 'orthogonal_mp_gram',\n",
       " 'ridge_regression']"
      ]
     },
     "execution_count": 112,
     "metadata": {},
     "output_type": "execute_result"
    }
   ],
   "source": [
    "dir(sklearn.linear_model)"
   ]
  },
  {
   "cell_type": "code",
   "execution_count": 113,
   "id": "auburn-arrest",
   "metadata": {},
   "outputs": [
    {
     "name": "stdout",
     "output_type": "stream",
     "text": [
      "Perceptron: 0.758333 (0.198781)\n",
      "SGD: 0.800000 (0.100000)\n",
      "PAC: 0.866667 (0.092796)\n",
      "RCCV: 0.883333 (0.092796)\n",
      "BP: 0.991667 (0.025000)\n",
      "TREE: 0.975000 (0.053359)\n",
      "NB: 0.975000 (0.038188)\n"
     ]
    }
   ],
   "source": [
    "# Train Each Algorithm on 80% Dataset \n",
    "from sklearn.neural_network import MLPClassifier\n",
    "from sklearn import tree\n",
    "models = []\n",
    "models.append(('Perceptron', sklearn.linear_model.Perceptron()))\n",
    "models.append(('SGD', sklearn.linear_model.SGDClassifier()))\n",
    "models.append(('PAC', sklearn.linear_model.PassiveAggressiveClassifier()))\n",
    "models.append(('RCCV', sklearn.linear_model.RidgeClassifierCV()))\n",
    "models.append(('BP', MLPClassifier(max_iter=10000)))\n",
    "models.append(('TREE', tree.DecisionTreeClassifier()))\n",
    "models.append(('NB', sklearn.naive_bayes.GaussianNB()))\n",
    "# evaluate each model in turn\n",
    "results = []\n",
    "names = []\n",
    "for name, model in models:\n",
    "\tkfold = StratifiedKFold(n_splits=10, random_state=1, shuffle=True)\n",
    "\tcv_results = cross_val_score(model, X_train, Y_train, cv=kfold, scoring='accuracy')\n",
    "\tresults.append(cv_results)\n",
    "\tnames.append(name)\n",
    "\tprint('%s: %f (%f)' % (name, cv_results.mean(), cv_results.std()))"
   ]
  },
  {
   "cell_type": "code",
   "execution_count": 114,
   "id": "exotic-commissioner",
   "metadata": {},
   "outputs": [
    {
     "data": {
      "image/png": "[encoded data removed]",
      "text/plain": [
       "<Figure size 432x288 with 1 Axes>"
      ]
     },
     "metadata": {
      "needs_background": "light"
     },
     "output_type": "display_data"
    }
   ],
   "source": [
    "# Compare Algorithms\n",
    "pyplot.boxplot(results, labels=names)\n",
    "pyplot.title('Algorithm Comparison')\n",
    "pyplot.show()"
   ]
  },
  {
   "cell_type": "markdown",
   "id": "christian-scheduling",
   "metadata": {},
   "source": [
    "(1)First, we try Perceptron."
   ]
  },
  {
   "cell_type": "code",
   "execution_count": 115,
   "id": "relevant-stanley",
   "metadata": {},
   "outputs": [],
   "source": [
    "# Make predictions on validation dataset using Perceptron.\n",
    "model =  sklearn.linear_model.Perceptron()\n",
    "model.fit(X_train, Y_train)\n",
    "predictions = model.predict(X_validation)"
   ]
  },
  {
   "cell_type": "code",
   "execution_count": 116,
   "id": "dental-margin",
   "metadata": {},
   "outputs": [
    {
     "name": "stdout",
     "output_type": "stream",
     "text": [
      "0.7666666666666667\n",
      "[[ 6  1  0]\n",
      " [ 0  7  5]\n",
      " [ 0  1 10]]\n",
      "                 precision    recall  f1-score   support\n",
      "\n",
      "    Iris-setosa       1.00      0.86      0.92         7\n",
      "Iris-versicolor       0.78      0.58      0.67        12\n",
      " Iris-virginica       0.67      0.91      0.77        11\n",
      "\n",
      "       accuracy                           0.77        30\n",
      "      macro avg       0.81      0.78      0.79        30\n",
      "   weighted avg       0.79      0.77      0.76        30\n",
      "\n"
     ]
    }
   ],
   "source": [
    "#Evaluate Predictions\n",
    "print(accuracy_score(Y_validation, predictions))\n",
    "print(confusion_matrix(Y_validation, predictions))\n",
    "print(classification_report(Y_validation, predictions))"
   ]
  },
  {
   "cell_type": "markdown",
   "id": "rough-protest",
   "metadata": {},
   "source": [
    "no good, it seems Perceptron only have 76.67% accuracy in this tasks."
   ]
  },
  {
   "cell_type": "markdown",
   "id": "accurate-designer",
   "metadata": {},
   "source": [
    "(2)Then, we try SGDClassifier."
   ]
  },
  {
   "cell_type": "code",
   "execution_count": 117,
   "id": "compact-klein",
   "metadata": {},
   "outputs": [],
   "source": [
    "# Make predictions on validation dataset using SGD.\n",
    "model =  sklearn.linear_model.SGDClassifier()\n",
    "model.fit(X_train, Y_train)\n",
    "predictions = model.predict(X_validation)"
   ]
  },
  {
   "cell_type": "code",
   "execution_count": 118,
   "id": "driven-official",
   "metadata": {},
   "outputs": [
    {
     "name": "stdout",
     "output_type": "stream",
     "text": [
      "0.8666666666666667\n",
      "[[ 6  1  0]\n",
      " [ 0 11  1]\n",
      " [ 0  2  9]]\n",
      "                 precision    recall  f1-score   support\n",
      "\n",
      "    Iris-setosa       1.00      0.86      0.92         7\n",
      "Iris-versicolor       0.79      0.92      0.85        12\n",
      " Iris-virginica       0.90      0.82      0.86        11\n",
      "\n",
      "       accuracy                           0.87        30\n",
      "      macro avg       0.90      0.86      0.88        30\n",
      "   weighted avg       0.88      0.87      0.87        30\n",
      "\n"
     ]
    }
   ],
   "source": [
    "#Evaluate Predictions\n",
    "print(accuracy_score(Y_validation, predictions))\n",
    "print(confusion_matrix(Y_validation, predictions))\n",
    "print(classification_report(Y_validation, predictions))"
   ]
  },
  {
   "cell_type": "markdown",
   "id": "incorrect-summer",
   "metadata": {},
   "source": [
    "no bad, it seems Perceptron only have 83.34% accuracy in this tasks."
   ]
  },
  {
   "cell_type": "markdown",
   "id": "unlike-municipality",
   "metadata": {},
   "source": [
    "(3)Then, we try PassiveAggressiveClassifier."
   ]
  },
  {
   "cell_type": "code",
   "execution_count": 119,
   "id": "consecutive-publication",
   "metadata": {},
   "outputs": [],
   "source": [
    "# Make predictions on validation dataset using PAC.\n",
    "model =  sklearn.linear_model.PassiveAggressiveClassifier()\n",
    "model.fit(X_train, Y_train)\n",
    "predictions = model.predict(X_validation)"
   ]
  },
  {
   "cell_type": "code",
   "execution_count": 120,
   "id": "special-algeria",
   "metadata": {},
   "outputs": [
    {
     "name": "stdout",
     "output_type": "stream",
     "text": [
      "0.7666666666666667\n",
      "[[7 0 0]\n",
      " [0 7 5]\n",
      " [0 2 9]]\n",
      "                 precision    recall  f1-score   support\n",
      "\n",
      "    Iris-setosa       1.00      1.00      1.00         7\n",
      "Iris-versicolor       0.78      0.58      0.67        12\n",
      " Iris-virginica       0.64      0.82      0.72        11\n",
      "\n",
      "       accuracy                           0.77        30\n",
      "      macro avg       0.81      0.80      0.80        30\n",
      "   weighted avg       0.78      0.77      0.76        30\n",
      "\n"
     ]
    }
   ],
   "source": [
    "#Evaluate Predictions\n",
    "print(accuracy_score(Y_validation, predictions))\n",
    "print(confusion_matrix(Y_validation, predictions))\n",
    "print(classification_report(Y_validation, predictions))"
   ]
  },
  {
   "cell_type": "markdown",
   "id": "entire-patio",
   "metadata": {},
   "source": [
    "no good, it seems Perceptron only have 76.67% accuracy in this tasks."
   ]
  },
  {
   "cell_type": "markdown",
   "id": "western-hormone",
   "metadata": {},
   "source": [
    "(4)Then, we try RidgeClassifierCV."
   ]
  },
  {
   "cell_type": "code",
   "execution_count": 121,
   "id": "efficient-jurisdiction",
   "metadata": {},
   "outputs": [],
   "source": [
    "# Make predictions on validation dataset using PAC.\n",
    "model =  sklearn.linear_model.RidgeClassifierCV()\n",
    "model.fit(X_train, Y_train)\n",
    "predictions = model.predict(X_validation)"
   ]
  },
  {
   "cell_type": "code",
   "execution_count": 122,
   "id": "moving-vault",
   "metadata": {},
   "outputs": [
    {
     "name": "stdout",
     "output_type": "stream",
     "text": [
      "0.6666666666666666\n",
      "[[6 1 0]\n",
      " [0 5 7]\n",
      " [0 2 9]]\n",
      "                 precision    recall  f1-score   support\n",
      "\n",
      "    Iris-setosa       1.00      0.86      0.92         7\n",
      "Iris-versicolor       0.62      0.42      0.50        12\n",
      " Iris-virginica       0.56      0.82      0.67        11\n",
      "\n",
      "       accuracy                           0.67        30\n",
      "      macro avg       0.73      0.70      0.70        30\n",
      "   weighted avg       0.69      0.67      0.66        30\n",
      "\n"
     ]
    }
   ],
   "source": [
    "#Evaluate Predictions\n",
    "print(accuracy_score(Y_validation, predictions))\n",
    "print(confusion_matrix(Y_validation, predictions))\n",
    "print(classification_report(Y_validation, predictions))"
   ]
  },
  {
   "cell_type": "markdown",
   "id": "premium-moral",
   "metadata": {},
   "source": [
    "very bad, only66.67%. So bad."
   ]
  },
  {
   "cell_type": "markdown",
   "id": "thermal-midwest",
   "metadata": {},
   "source": [
    "(5) Then we use bp"
   ]
  },
  {
   "cell_type": "code",
   "execution_count": 123,
   "id": "collective-orleans",
   "metadata": {},
   "outputs": [],
   "source": [
    "# Make predictions on validation dataset using BP.\n",
    "from sklearn.neural_network import MLPClassifier\n",
    "model =  MLPClassifier(max_iter=10000)\n",
    "model.fit(X_train, Y_train)\n",
    "predictions = model.predict(X_validation)"
   ]
  },
  {
   "cell_type": "code",
   "execution_count": 124,
   "id": "cheap-january",
   "metadata": {},
   "outputs": [
    {
     "name": "stdout",
     "output_type": "stream",
     "text": [
      "0.9333333333333333\n",
      "[[ 7  0  0]\n",
      " [ 0 10  2]\n",
      " [ 0  0 11]]\n",
      "                 precision    recall  f1-score   support\n",
      "\n",
      "    Iris-setosa       1.00      1.00      1.00         7\n",
      "Iris-versicolor       1.00      0.83      0.91        12\n",
      " Iris-virginica       0.85      1.00      0.92        11\n",
      "\n",
      "       accuracy                           0.93        30\n",
      "      macro avg       0.95      0.94      0.94        30\n",
      "   weighted avg       0.94      0.93      0.93        30\n",
      "\n"
     ]
    }
   ],
   "source": [
    "#Evaluate Predictions\n",
    "print(accuracy_score(Y_validation, predictions))\n",
    "print(confusion_matrix(Y_validation, predictions))\n",
    "print(classification_report(Y_validation, predictions))"
   ]
  },
  {
   "cell_type": "markdown",
   "id": "prompt-indicator",
   "metadata": {},
   "source": [
    "ohh , 93.333% very high!"
   ]
  },
  {
   "cell_type": "markdown",
   "id": "moral-microphone",
   "metadata": {},
   "source": [
    "(6) Then we use tree"
   ]
  },
  {
   "cell_type": "code",
   "execution_count": 125,
   "id": "christian-benjamin",
   "metadata": {},
   "outputs": [],
   "source": [
    "# Make predictions on validation dataset using DecisionTree.\n",
    "from sklearn import tree\n",
    "model =  tree.DecisionTreeClassifier()\n",
    "model.fit(X_train, Y_train)\n",
    "predictions = model.predict(X_validation)"
   ]
  },
  {
   "cell_type": "code",
   "execution_count": 126,
   "id": "dietary-louisiana",
   "metadata": {},
   "outputs": [
    {
     "name": "stdout",
     "output_type": "stream",
     "text": [
      "0.8666666666666667\n",
      "[[ 7  0  0]\n",
      " [ 0 10  2]\n",
      " [ 0  2  9]]\n",
      "                 precision    recall  f1-score   support\n",
      "\n",
      "    Iris-setosa       1.00      1.00      1.00         7\n",
      "Iris-versicolor       0.83      0.83      0.83        12\n",
      " Iris-virginica       0.82      0.82      0.82        11\n",
      "\n",
      "       accuracy                           0.87        30\n",
      "      macro avg       0.88      0.88      0.88        30\n",
      "   weighted avg       0.87      0.87      0.87        30\n",
      "\n"
     ]
    }
   ],
   "source": [
    "#Evaluate Predictions\n",
    "print(accuracy_score(Y_validation, predictions))\n",
    "print(confusion_matrix(Y_validation, predictions))\n",
    "print(classification_report(Y_validation, predictions))"
   ]
  },
  {
   "cell_type": "markdown",
   "id": "southern-lucas",
   "metadata": {},
   "source": [
    "86.67% good!"
   ]
  },
  {
   "cell_type": "markdown",
   "id": "utility-secretariat",
   "metadata": {},
   "source": [
    "(7)Finally, we try GaussianNB."
   ]
  },
  {
   "cell_type": "code",
   "execution_count": 127,
   "id": "functioning-rochester",
   "metadata": {},
   "outputs": [],
   "source": [
    "# Make predictions on validation dataset using GaussianNB.\n",
    "model =  sklearn.naive_bayes.GaussianNB()\n",
    "model.fit(X_train, Y_train)\n",
    "predictions = model.predict(X_validation)"
   ]
  },
  {
   "cell_type": "code",
   "execution_count": 128,
   "id": "upper-broadway",
   "metadata": {},
   "outputs": [
    {
     "name": "stdout",
     "output_type": "stream",
     "text": [
      "0.8333333333333334\n",
      "[[7 0 0]\n",
      " [0 9 3]\n",
      " [0 2 9]]\n",
      "                 precision    recall  f1-score   support\n",
      "\n",
      "    Iris-setosa       1.00      1.00      1.00         7\n",
      "Iris-versicolor       0.82      0.75      0.78        12\n",
      " Iris-virginica       0.75      0.82      0.78        11\n",
      "\n",
      "       accuracy                           0.83        30\n",
      "      macro avg       0.86      0.86      0.86        30\n",
      "   weighted avg       0.84      0.83      0.83        30\n",
      "\n"
     ]
    }
   ],
   "source": [
    "#Evaluate Predictions\n",
    "print(accuracy_score(Y_validation, predictions))\n",
    "print(confusion_matrix(Y_validation, predictions))\n",
    "print(classification_report(Y_validation, predictions))"
   ]
  },
  {
   "cell_type": "markdown",
   "id": "amber-expense",
   "metadata": {},
   "source": [
    "83.3%,  good!"
   ]
  },
  {
   "cell_type": "markdown",
   "id": "rational-moscow",
   "metadata": {},
   "source": [
    "That's all for tasks, Thak you!"
   ]
  },
  {
   "cell_type": "code",
   "execution_count": null,
   "id": "optical-citation",
   "metadata": {},
   "outputs": [],
   "source": []
  }
 ],
 "metadata": {
  "kernelspec": {
   "display_name": "Python 3",
   "language": "python",
   "name": "python3"
  },
  "language_info": {
   "codemirror_mode": {
    "name": "ipython",
    "version": 3
   },
   "file_extension": ".py",
   "mimetype": "text/x-python",
   "name": "python",
   "nbconvert_exporter": "python",
   "pygments_lexer": "ipython3",
   "version": "3.8.8"
  }
 },
 "nbformat": 4,
 "nbformat_minor": 5
}