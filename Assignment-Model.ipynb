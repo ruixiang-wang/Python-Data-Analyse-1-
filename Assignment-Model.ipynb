{
 "cells": [
  {
   "cell_type": "markdown",
   "id": "southern-multiple",
   "metadata": {},
   "source": [
    "# The Ruixiang Wang's Assignment-Model\n",
    "Name: Wang Ruixiang<br>\n",
    "Student_ID: 20193493<br>\n",
    "Data: 2022/1/7<br>\n",
    "Description: This assignment aim to figure out how to implement netural networks in model subclassing methods."
   ]
  },
  {
   "cell_type": "markdown",
   "id": "discrete-charleston",
   "metadata": {},
   "source": [
    "## OverView"
   ]
  },
  {
   "cell_type": "markdown",
   "id": "olive-decline",
   "metadata": {},
   "source": [
    "Before I start my assignment, I would like to answer the question why we need to use the Model subclassing.<br>\n",
    "Model subclassing is **fully-customizable** and **enables you to implement your own custom forward-pass of the model**.<br>\n",
    "However, this **flexibility and customization** comes at a cost — **model subclassing is way harder to utilize than the Sequential API or Functional API.**<br>\n",
    "When we wish to have **control over every nuance of the network and training process** — and that’s exactly what model subclassing provides them.<br>\n",
    "there are content of this jupter notebook:<br>\n",
    "**PART1 Implementing VGG structures using the Model subclassing**<br>\n",
    "**PART2 Implementing RNN structure using the Model subclassing**<br>"
   ]
  },
  {
   "cell_type": "markdown",
   "id": "becoming-selling",
   "metadata": {},
   "source": [
    "## PART1 Implementing VGG structures using the Model subclassing"
   ]
  },
  {
   "cell_type": "markdown",
   "id": "finished-treatment",
   "metadata": {},
   "source": [
    "**Step1: Importing datasets and some library**"
   ]
  },
  {
   "cell_type": "code",
   "execution_count": 1,
   "id": "korean-marble",
   "metadata": {},
   "outputs": [],
   "source": [
    "# import the necessary packages\n",
    "import tensorflow as tf\n",
    "from tensorflow.keras.datasets import mnist\n",
    "import matplotlib\n",
    "matplotlib.use(\"Agg\")\n",
    "import logging\n",
    "from tensorflow import keras\n",
    "from tensorflow.keras import layers\n",
    "logging.getLogger(\"tensorflow\").setLevel(logging.CRITICAL)\n",
    "from sklearn.preprocessing import LabelBinarizer\n",
    "from sklearn.metrics import classification_report\n",
    "from tensorflow.keras.preprocessing.image import ImageDataGenerator\n",
    "from tensorflow.keras.optimizers import SGD\n",
    "from tensorflow.keras.datasets import mnist\n",
    "from tensorflow.keras.models import Model\n",
    "from tensorflow.keras.models import Sequential\n",
    "from tensorflow.keras.layers import BatchNormalization\n",
    "from tensorflow.keras.layers import AveragePooling2D\n",
    "from tensorflow.keras.layers import MaxPooling2D\n",
    "from tensorflow.keras.layers import Conv2D\n",
    "from tensorflow.keras.layers import Activation\n",
    "from tensorflow.keras.layers import Dropout\n",
    "from tensorflow.keras.layers import Flatten\n",
    "from tensorflow.keras.layers import Input\n",
    "from tensorflow.keras.layers import Dense\n",
    "from tensorflow.keras.layers import concatenate\n",
    "import matplotlib.pyplot as plt\n",
    "import numpy as np\n",
    "import argparse\n",
    "from PIL import Image\n",
    "import matplotlib\n",
    "# matplotlib.use('TkAgg')\n",
    "from matplotlib import pyplot as pl\n",
    "import seaborn as sns "
   ]
  },
  {
   "cell_type": "code",
   "execution_count": 2,
   "id": "distinct-maple",
   "metadata": {},
   "outputs": [],
   "source": [
    "# We will Normalise the dataset to scale it between 0 and 1, which is an optional task\n",
    "(train_images, train_labels), (test_images, test_labels) = mnist.load_data()\n",
    "train_images = tf.keras.utils.normalize(train_images, axis=1)\n",
    "test_images = tf.keras.utils.normalize(test_images, axis=1)\n",
    "train_images = train_images.reshape(train_images.shape[0], 28, 28, 1).astype('float32')\n",
    "test_images = test_images.reshape(test_images.shape[0], 28, 28, 1).astype('float32')\n",
    "lb = LabelBinarizer()\n",
    "train_labels = lb.fit_transform(train_labels)\n",
    "test_labels = lb.transform(test_labels)"
   ]
  },
  {
   "cell_type": "markdown",
   "id": "developing-lover",
   "metadata": {},
   "source": [
    "**Step2: Constructing the VGG model**"
   ]
  },
  {
   "cell_type": "code",
   "execution_count": 3,
   "id": "backed-liabilities",
   "metadata": {},
   "outputs": [],
   "source": [
    "class my_vgg_model(Model):\n",
    "\tdef __init__(self, classes, chanDim=-1):\n",
    "\t\tsuper(my_vgg_model, self).__init__()\n",
    "        \n",
    "\t\t# initialize the layers in the first (CONV => RELU) * 2 => POOL\n",
    "\t\tself.conv1A = Conv2D(28, (3, 3), padding=\"same\")\n",
    "\t\tself.act1A = Activation(\"relu\")\n",
    "\t\tself.bn1A = BatchNormalization(axis=chanDim)\n",
    "\t\tself.conv1B = Conv2D(28, (3, 3), padding=\"same\")\n",
    "\t\tself.act1B = Activation(\"relu\")\n",
    "\t\tself.bn1B = BatchNormalization(axis=chanDim)\n",
    "\t\tself.pool1 = MaxPooling2D(pool_size=(2, 2))\n",
    "\n",
    "\t\t# initialize the layers in the second (CONV => RELU) * 2 => POOL\n",
    "\t\tself.conv2A = Conv2D(28, (3, 3), padding=\"same\")\n",
    "\t\tself.act2A = Activation(\"relu\")\n",
    "\t\tself.bn2A = BatchNormalization(axis=chanDim)\n",
    "\t\tself.conv2B = Conv2D(28, (3, 3), padding=\"same\")\n",
    "\t\tself.act2B = Activation(\"relu\")\n",
    "\t\tself.bn2B = BatchNormalization(axis=chanDim)\n",
    "\t\tself.pool2 = MaxPooling2D(pool_size=(2, 2))\n",
    "\n",
    "\t\t# initialize the layers in our fully-connected layer set\n",
    "\t\tself.flatten = Flatten()\n",
    "\t\tself.dense3 = Dense(448)\n",
    "\t\tself.act3 = Activation(\"relu\")\n",
    "\t\tself.bn3 = BatchNormalization()\n",
    "\t\tself.do3 = Dropout(0.5)\n",
    "\n",
    "\t\t# initialize the layers in the softmax classifier layer set\n",
    "\t\tself.dense4 = Dense(classes)\n",
    "\t\tself.softmax = Activation(\"softmax\")\n",
    "        \n",
    "\tdef call(self, inputs):\n",
    "\t\t# build the first (CONV => RELU) * 2 => POOL layer set\n",
    "\t\tx = self.conv1A(inputs)\n",
    "\t\tx = self.act1A(x)\n",
    "\t\tx = self.bn1A(x)\n",
    "\t\tx = self.conv1B(x)\n",
    "\t\tx = self.act1B(x)\n",
    "\t\tx = self.bn1B(x)\n",
    "\t\tx = self.pool1(x)\n",
    "\n",
    "\t\t# build the second (CONV => RELU) * 2 => POOL layer set\n",
    "\t\tx = self.conv2A(x)\n",
    "\t\tx = self.act2A(x)\n",
    "\t\tx = self.bn2A(x)\n",
    "\t\tx = self.conv2B(x)\n",
    "\t\tx = self.act2B(x)\n",
    "\t\tx = self.bn2B(x)\n",
    "\t\tx = self.pool2(x)\n",
    "\n",
    "\t\t# build our FC layer set\n",
    "\t\tx = self.flatten(x)\n",
    "\t\tx = self.dense3(x)\n",
    "\t\tx = self.act3(x)\n",
    "\t\tx = self.bn3(x)\n",
    "\t\tx = self.do3(x)\n",
    "\n",
    "\t\t# build the softmax classifier\n",
    "\t\tx = self.dense4(x)\n",
    "\t\tx = self.softmax(x)\n",
    "\n",
    "\t\t# return the constructed model\n",
    "\t\treturn x"
   ]
  },
  {
   "cell_type": "code",
   "execution_count": 4,
   "id": "familiar-acceptance",
   "metadata": {},
   "outputs": [
    {
     "name": "stdout",
     "output_type": "stream",
     "text": [
      "[INFO] using vgg_subclassing model...\n"
     ]
    }
   ],
   "source": [
    "# instantiate a Keras Functional model\n",
    "print(\"[INFO] using vgg_subclassing model...\")\n",
    "vgg_model = my_vgg_model(10)"
   ]
  },
  {
   "cell_type": "code",
   "execution_count": 5,
   "id": "amateur-assurance",
   "metadata": {},
   "outputs": [
    {
     "name": "stdout",
     "output_type": "stream",
     "text": [
      "[INFO] training network...\n"
     ]
    }
   ],
   "source": [
    "# initialize the initial learning rate, batch size, and number of\n",
    "INIT_LR = 0.1\n",
    "BATCH_SIZE = 100\n",
    "NUM_EPOCHS = 10\n",
    "\n",
    "opt = SGD(lr=INIT_LR, momentum=0.9, decay=INIT_LR / NUM_EPOCHS)\n",
    "print(\"[INFO] training network...\")\n",
    "vgg_model.compile(loss=\"categorical_crossentropy\", optimizer=opt,\n",
    "\tmetrics=[\"accuracy\"])"
   ]
  },
  {
   "cell_type": "markdown",
   "id": "mobile-chain",
   "metadata": {},
   "source": [
    "**Step3: Model training**"
   ]
  },
  {
   "cell_type": "code",
   "execution_count": 6,
   "id": "subject-affect",
   "metadata": {},
   "outputs": [
    {
     "name": "stdout",
     "output_type": "stream",
     "text": [
      "Epoch 1/10\n",
      "1875/1875 [==============================] - 140s 74ms/step - loss: 0.5290 - accuracy: 0.9041 - val_loss: 0.0489 - val_accuracy: 0.9839\n",
      "Epoch 2/10\n",
      "1875/1875 [==============================] - 140s 75ms/step - loss: 0.1108 - accuracy: 0.9704 - val_loss: 0.0433 - val_accuracy: 0.9854\n",
      "Epoch 3/10\n",
      "1875/1875 [==============================] - 140s 74ms/step - loss: 0.0933 - accuracy: 0.9740 - val_loss: 0.0376 - val_accuracy: 0.9866\n",
      "Epoch 4/10\n",
      "1875/1875 [==============================] - 137s 73ms/step - loss: 0.0844 - accuracy: 0.9758 - val_loss: 0.0364 - val_accuracy: 0.9869\n",
      "Epoch 5/10\n",
      "1875/1875 [==============================] - 139s 74ms/step - loss: 0.0833 - accuracy: 0.9757 - val_loss: 0.0348 - val_accuracy: 0.9871\n",
      "Epoch 6/10\n",
      "1875/1875 [==============================] - 139s 74ms/step - loss: 0.0725 - accuracy: 0.9786 - val_loss: 0.0350 - val_accuracy: 0.9871\n",
      "Epoch 7/10\n",
      "1875/1875 [==============================] - 139s 74ms/step - loss: 0.0754 - accuracy: 0.9782 - val_loss: 0.0341 - val_accuracy: 0.9879\n",
      "Epoch 8/10\n",
      "1875/1875 [==============================] - 139s 74ms/step - loss: 0.0752 - accuracy: 0.9781 - val_loss: 0.0338 - val_accuracy: 0.9879\n",
      "Epoch 9/10\n",
      "1875/1875 [==============================] - 147s 78ms/step - loss: 0.0700 - accuracy: 0.9789 - val_loss: 0.0331 - val_accuracy: 0.9883\n",
      "Epoch 10/10\n",
      "1875/1875 [==============================] - 141s 75ms/step - loss: 0.0685 - accuracy: 0.9795 - val_loss: 0.0336 - val_accuracy: 0.9881\n"
     ]
    }
   ],
   "source": [
    "# train the network\n",
    "H = vgg_model.fit(train_images, train_labels, epochs=10, validation_data=(test_images, test_labels))"
   ]
  },
  {
   "cell_type": "code",
   "execution_count": 7,
   "id": "encouraging-floor",
   "metadata": {},
   "outputs": [
    {
     "name": "stdout",
     "output_type": "stream",
     "text": [
      "Model: \"my_vgg_model\"\n",
      "_________________________________________________________________\n",
      "Layer (type)                 Output Shape              Param #   \n",
      "=================================================================\n",
      "conv2d (Conv2D)              multiple                  280       \n",
      "_________________________________________________________________\n",
      "activation (Activation)      multiple                  0         \n",
      "_________________________________________________________________\n",
      "batch_normalization (BatchNo multiple                  112       \n",
      "_________________________________________________________________\n",
      "conv2d_1 (Conv2D)            multiple                  7084      \n",
      "_________________________________________________________________\n",
      "activation_1 (Activation)    multiple                  0         \n",
      "_________________________________________________________________\n",
      "batch_normalization_1 (Batch multiple                  112       \n",
      "_________________________________________________________________\n",
      "max_pooling2d (MaxPooling2D) multiple                  0         \n",
      "_________________________________________________________________\n",
      "conv2d_2 (Conv2D)            multiple                  7084      \n",
      "_________________________________________________________________\n",
      "activation_2 (Activation)    multiple                  0         \n",
      "_________________________________________________________________\n",
      "batch_normalization_2 (Batch multiple                  112       \n",
      "_________________________________________________________________\n",
      "conv2d_3 (Conv2D)            multiple                  7084      \n",
      "_________________________________________________________________\n",
      "activation_3 (Activation)    multiple                  0         \n",
      "_________________________________________________________________\n",
      "batch_normalization_3 (Batch multiple                  112       \n",
      "_________________________________________________________________\n",
      "max_pooling2d_1 (MaxPooling2 multiple                  0         \n",
      "_________________________________________________________________\n",
      "flatten (Flatten)            multiple                  0         \n",
      "_________________________________________________________________\n",
      "dense (Dense)                multiple                  615104    \n",
      "_________________________________________________________________\n",
      "activation_4 (Activation)    multiple                  0         \n",
      "_________________________________________________________________\n",
      "batch_normalization_4 (Batch multiple                  1792      \n",
      "_________________________________________________________________\n",
      "dropout (Dropout)            multiple                  0         \n",
      "_________________________________________________________________\n",
      "dense_1 (Dense)              multiple                  4490      \n",
      "_________________________________________________________________\n",
      "activation_5 (Activation)    multiple                  0         \n",
      "=================================================================\n",
      "Total params: 643,366\n",
      "Trainable params: 642,246\n",
      "Non-trainable params: 1,120\n",
      "_________________________________________________________________\n"
     ]
    }
   ],
   "source": [
    "vgg_model.summary()"
   ]
  },
  {
   "cell_type": "markdown",
   "id": "outstanding-ready",
   "metadata": {},
   "source": [
    "**Step4: Model evaluation**"
   ]
  },
  {
   "cell_type": "code",
   "execution_count": 8,
   "id": "intermediate-trading",
   "metadata": {},
   "outputs": [
    {
     "name": "stdout",
     "output_type": "stream",
     "text": [
      "[INFO] evaluating network...\n"
     ]
    }
   ],
   "source": [
    "print(\"[INFO] evaluating network...\")"
   ]
  },
  {
   "cell_type": "code",
   "execution_count": 9,
   "id": "loaded-delivery",
   "metadata": {},
   "outputs": [
    {
     "name": "stdout",
     "output_type": "stream",
     "text": [
      "313/313 [==============================] - 3s 10ms/step - loss: 0.0336 - accuracy: 0.9881\n",
      "0.033573079854249954 0.988099992275238\n"
     ]
    }
   ],
   "source": [
    "# Calculate Validation Loss and Validation Accuracy and compare with above one\n",
    "val_loss_01, val_acc_01 = vgg_model.evaluate(test_images, test_labels)\n",
    "print(val_loss_01, val_acc_01)"
   ]
  },
  {
   "cell_type": "code",
   "execution_count": 10,
   "id": "wrong-maine",
   "metadata": {},
   "outputs": [
    {
     "name": "stdout",
     "output_type": "stream",
     "text": [
      "              precision    recall  f1-score   support\n",
      "\n",
      "           0       0.99      0.99      0.99       980\n",
      "           1       0.99      0.99      0.99      1135\n",
      "           2       0.98      0.99      0.99      1032\n",
      "           3       0.99      0.99      0.99      1010\n",
      "           4       0.99      0.99      0.99       982\n",
      "           5       0.99      0.99      0.99       892\n",
      "           6       0.99      0.99      0.99       958\n",
      "           7       0.99      0.98      0.99      1028\n",
      "           8       0.99      0.98      0.99       974\n",
      "           9       0.98      0.98      0.98      1009\n",
      "\n",
      "    accuracy                           0.99     10000\n",
      "   macro avg       0.99      0.99      0.99     10000\n",
      "weighted avg       0.99      0.99      0.99     10000\n",
      "\n"
     ]
    }
   ],
   "source": [
    "# evaluate the network\n",
    "labelNames = ['0', '1', '2', '3', '4', '5', '6', '7', '8', '9']\n",
    "predictions = vgg_model.predict(test_images, batch_size=BATCH_SIZE)\n",
    "print(classification_report(test_labels.argmax(axis=1),\n",
    "\tpredictions.argmax(axis=1), target_names=labelNames))"
   ]
  },
  {
   "cell_type": "code",
   "execution_count": 11,
   "id": "restricted-phoenix",
   "metadata": {},
   "outputs": [
    {
     "data": {
      "image/png": "[encoded data removed]",
      "text/plain": [
       "<PIL.PngImagePlugin.PngImageFile image mode=RGBA size=640x480 at 0x20BDFE217C0>"
      ]
     },
     "metadata": {},
     "output_type": "display_data"
    }
   ],
   "source": [
    "N = np.arange(0, NUM_EPOCHS)\n",
    "title = \"Loss and Accuracy on MNIST (subclassing)\"\n",
    "# plot the training loss and accuracy\n",
    "plt.style.use(\"ggplot\")\n",
    "plt.figure()\n",
    "plt.plot(N, H.history[\"loss\"], label=\"train_loss\")\n",
    "plt.plot(N, H.history[\"val_loss\"], label=\"val_loss\")\n",
    "plt.plot(N, H.history[\"accuracy\"], label=\"train_acc\")\n",
    "plt.plot(N, H.history[\"val_accuracy\"], label=\"val_acc\")\n",
    "plt.title(title)\n",
    "plt.xlabel(\"Epoch #\")\n",
    "plt.ylabel(\"Loss/Accuracy\")\n",
    "plt.legend()\n",
    "plt.savefig(\"my_vgg_model_subclassing_plot.png\")\n",
    "display(Image.open(\"my_vgg_model_subclassing_plot.png\"))"
   ]
  },
  {
   "cell_type": "code",
   "execution_count": 12,
   "id": "continued-witness",
   "metadata": {},
   "outputs": [
    {
     "name": "stdout",
     "output_type": "stream",
     "text": [
      "[[ 975    0    1    0    0    0    1    1    2    0]\n",
      " [   0 1127    4    0    1    0    2    0    1    0]\n",
      " [   2    2 1024    0    0    0    0    3    1    0]\n",
      " [   0    1    1 1000    0    4    0    0    2    2]\n",
      " [   0    0    1    0  973    0    2    0    1    5]\n",
      " [   2    0    1    6    0  879    2    0    1    1]\n",
      " [   5    4    0    0    1    3  944    0    1    0]\n",
      " [   0    3    6    4    0    0    0 1011    0    4]\n",
      " [   3    0    3    1    1    2    0    1  959    4]\n",
      " [   0    3    0    2    6    1    1    4    3  989]]\n"
     ]
    }
   ],
   "source": [
    "# Calculate Confusion Matrix\n",
    "from sklearn.metrics import confusion_matrix\n",
    "confusion_matrix = confusion_matrix(test_labels.argmax(axis=1),predictions.argmax(axis=1))\n",
    "print(confusion_matrix) "
   ]
  },
  {
   "cell_type": "code",
   "execution_count": 13,
   "id": "earlier-romania",
   "metadata": {},
   "outputs": [
    {
     "data": {
      "image/png": "[encoded data removed]",
      "text/plain": [
       "<PIL.PngImagePlugin.PngImageFile image mode=RGBA size=800x800 at 0x20BD668DFA0>"
      ]
     },
     "metadata": {},
     "output_type": "display_data"
    }
   ],
   "source": [
    "figure = plt.figure(figsize=(8, 8))\n",
    "sns.heatmap(confusion_matrix, annot=True, cmap='Blues')\n",
    "\n",
    "plt.ylim(10, 0)\n",
    "plt.xlabel('Predicted labels')\n",
    "plt.ylabel('True labels')\n",
    "plt.savefig(\"confusion_matrix_2.png\")\n",
    "display(Image.open(\"confusion_matrix_2.png\"))"
   ]
  },
  {
   "cell_type": "markdown",
   "id": "surprising-election",
   "metadata": {},
   "source": [
    "**Step5: Save Our Model**"
   ]
  },
  {
   "cell_type": "code",
   "execution_count": 14,
   "id": "different-richards",
   "metadata": {},
   "outputs": [],
   "source": [
    "# Save this DL Model for the future use\n",
    "vgg_model.save('vgg_subclassing.model1')"
   ]
  },
  {
   "cell_type": "code",
   "execution_count": 15,
   "id": "precise-sacrifice",
   "metadata": {},
   "outputs": [],
   "source": [
    "# Load the previously saved DL Model for Prediction\n",
    "num_model_02 = tf.keras.models.load_model('vgg_subclassing.model1')"
   ]
  },
  {
   "cell_type": "code",
   "execution_count": 16,
   "id": "center-valley",
   "metadata": {},
   "outputs": [],
   "source": [
    "# Make Predictions using the loaded DL Model\n",
    "predictions = num_model_02.predict(test_images)"
   ]
  },
  {
   "cell_type": "code",
   "execution_count": 17,
   "id": "latter-digest",
   "metadata": {},
   "outputs": [
    {
     "name": "stdout",
     "output_type": "stream",
     "text": [
      "[[2.39142123e-10 2.00333812e-11 2.91807445e-09 ... 1.00000000e+00\n",
      "  3.51926691e-12 1.24242494e-09]\n",
      " [1.81454320e-12 1.79547754e-08 9.99999404e-01 ... 7.62040431e-12\n",
      "  1.37410561e-09 3.54975489e-13]\n",
      " [1.01576010e-08 9.99999166e-01 6.32402464e-11 ... 1.32023089e-07\n",
      "  2.48918575e-08 1.35166167e-09]\n",
      " ...\n",
      " [7.38773626e-13 1.73119489e-07 1.22416478e-11 ... 3.73772444e-08\n",
      "  2.24374797e-10 1.83522857e-07]\n",
      " [5.76294852e-08 5.52826838e-12 2.05822670e-09 ... 1.65115796e-10\n",
      "  4.24929953e-04 3.68467590e-10]\n",
      " [2.88985902e-08 8.65835598e-11 8.58255405e-08 ... 2.06770209e-11\n",
      "  1.08915586e-07 4.52502202e-10]]\n"
     ]
    }
   ],
   "source": [
    "# Display the Pridictions - Probability Distributions\n",
    "print(predictions)"
   ]
  },
  {
   "cell_type": "markdown",
   "id": "straight-surrey",
   "metadata": {},
   "source": [
    "## PART2 Implementing RNN structure using the Model subclassing"
   ]
  },
  {
   "cell_type": "markdown",
   "id": "broken-england",
   "metadata": {},
   "source": [
    "What is RNN? In my previous studies, I have learnt about FCNN and CNN, which can solve many practical problems, but they can only process one input individually, and the previous input is not related to the latter input at all. **In real life, there is often a back-and-forth connection between the input vectors,** i.e. the previous input is related to the latter input, e.g. text, speech, video, etc. Therefore, we need to understand another important class of neural networks in deep learning, which is recurrent neural networks. **Recurrent neural networks rely on an important concept: sequence**, i.e. the input vector is a sequence and there is a back-and-forth connection. Compared to the previous FCNNs, RNNs have an extra self-looping part in their structure. **RNNs now come in quite a few varieties, including LSTMs, GRUs and so on.** Thankfully, tensorflow 2.0 has done a good job of encapsulating these main elements for us, and we can quickly build network model structures with keras.layers.RNN, keras.layers.LSTM and keras.layers.GRU"
   ]
  },
  {
   "cell_type": "markdown",
   "id": "connected-massachusetts",
   "metadata": {},
   "source": [
    "The use of CNNs to identify MNIST datasets is well understood, it is using the spatial information of the images. However, RNN requires the input vectors to be sequences, the size of an image is 28\\*28 we consider each column of vectors as a vector at a certain moment, then each image is a sequence containing 28 vectors, each vector contains 28 elements,and **consider each row of pixels as a time step**."
   ]
  },
  {
   "attachments": {
    "20180925173927987.png": {
     "image/png": "[encoded data removed]"
    }
   },
   "cell_type": "markdown",
   "id": "rural-spray",
   "metadata": {},
   "source": [
    "![20180925173927987.png](attachment:20180925173927987.png)"
   ]
  },
  {
   "cell_type": "markdown",
   "id": "express-diana",
   "metadata": {},
   "source": [
    "**Step1: Constructing the RNN model**"
   ]
  },
  {
   "cell_type": "code",
   "execution_count": 18,
   "id": "clean-seeker",
   "metadata": {},
   "outputs": [],
   "source": [
    "class my_simpleRnn_model(Model):\n",
    "    def __init__(self):\n",
    "        super(my_simpleRnn_model, self).__init__()\n",
    "        self.lstm_layer = keras.layers.LSTM(64, input_shape=(None, 28))\n",
    "        self.norm_layer = keras.layers.BatchNormalization()\n",
    "        self.dense_layer = keras.layers.Dense(10)\n",
    "    def call(self, inputs):\n",
    "        x = self.lstm_layer(inputs)\n",
    "        x = self.norm_layer(x)\n",
    "        x = self.dense_layer(x)\n",
    "        return x "
   ]
  },
  {
   "cell_type": "code",
   "execution_count": 19,
   "id": "hindu-cartridge",
   "metadata": {},
   "outputs": [],
   "source": [
    "class my_gru_model(Model):\n",
    "    def __init__(self):\n",
    "        super(my_gru_model, self).__init__()\n",
    "        self.gru_layer = keras.layers.GRU(256, return_sequences=True)\n",
    "        self.rnn_layer = keras.layers.SimpleRNN(64, input_shape=(None, 28))\n",
    "        self.norm_layer = keras.layers.BatchNormalization()\n",
    "        self.dense_layer = keras.layers.Dense(10)\n",
    "    def call(self, inputs):\n",
    "        x = self.gru_layer(inputs)\n",
    "        x = self.rnn_layer(x)\n",
    "        x = self.norm_layer(x)\n",
    "        x = self.dense_layer(x)\n",
    "        return x "
   ]
  },
  {
   "cell_type": "code",
   "execution_count": 20,
   "id": "regional-wales",
   "metadata": {},
   "outputs": [],
   "source": [
    "class my_biRnn_model(Model):\n",
    "    def __init__(self):\n",
    "        super(my_biRnn_model, self).__init__()\n",
    "        self.bi_layer1 = keras.layers.Bidirectional(layers.LSTM(64, return_sequences=True), input_shape=(None, 28))\n",
    "        self.bi_layer2 = keras.layers.Bidirectional(layers.LSTM(32))\n",
    "        self.norm_layer = keras.layers.BatchNormalization()\n",
    "        self.dense_layer = keras.layers.Dense(10)\n",
    "    def call(self, inputs):\n",
    "        x = self.bi_layer1(inputs)\n",
    "        x = self.bi_layer2(x)\n",
    "        x = self.norm_layer(x)\n",
    "        x = self.dense_layer(x)\n",
    "        return x "
   ]
  },
  {
   "cell_type": "code",
   "execution_count": 21,
   "id": "dimensional-aquatic",
   "metadata": {},
   "outputs": [],
   "source": [
    "simpleRnn_model = my_simpleRnn_model()"
   ]
  },
  {
   "cell_type": "code",
   "execution_count": 22,
   "id": "prompt-caution",
   "metadata": {},
   "outputs": [],
   "source": [
    "gru_model= my_gru_model()"
   ]
  },
  {
   "cell_type": "code",
   "execution_count": 23,
   "id": "surrounded-negative",
   "metadata": {},
   "outputs": [],
   "source": [
    "biRnn_model = my_biRnn_model()"
   ]
  },
  {
   "cell_type": "markdown",
   "id": "rotary-orientation",
   "metadata": {},
   "source": [
    "**Step2: Model training**"
   ]
  },
  {
   "cell_type": "code",
   "execution_count": 24,
   "id": "representative-millennium",
   "metadata": {},
   "outputs": [],
   "source": [
    "# Since we added a dimension to the mnist dataset before the vgg training, we can either read it fresh, or reshape it.\n",
    "(x_train, y_train), (x_test, y_test) = mnist.load_data()\n",
    "x_train, x_test = x_train / 255.0, x_test / 255.0"
   ]
  },
  {
   "cell_type": "code",
   "execution_count": 25,
   "id": "equal-reward",
   "metadata": {},
   "outputs": [
    {
     "name": "stdout",
     "output_type": "stream",
     "text": [
      "[INFO] training network...\n",
      "Epoch 1/10\n",
      "1875/1875 [==============================] - 13s 6ms/step - loss: 1.1351 - accuracy: 0.6263 - val_loss: 0.3448 - val_accuracy: 0.8900\n",
      "Epoch 2/10\n",
      "1875/1875 [==============================] - 12s 6ms/step - loss: 0.3153 - accuracy: 0.9010 - val_loss: 0.2873 - val_accuracy: 0.8971\n",
      "Epoch 3/10\n",
      "1875/1875 [==============================] - 12s 7ms/step - loss: 0.1980 - accuracy: 0.9385 - val_loss: 0.1724 - val_accuracy: 0.9448\n",
      "Epoch 4/10\n",
      "1875/1875 [==============================] - 13s 7ms/step - loss: 0.1534 - accuracy: 0.9537 - val_loss: 0.1223 - val_accuracy: 0.9598\n",
      "Epoch 5/10\n",
      "1875/1875 [==============================] - 12s 7ms/step - loss: 0.1314 - accuracy: 0.9592 - val_loss: 0.1239 - val_accuracy: 0.9621\n",
      "Epoch 6/10\n",
      "1875/1875 [==============================] - 13s 7ms/step - loss: 0.1151 - accuracy: 0.9644 - val_loss: 0.1019 - val_accuracy: 0.9680\n",
      "Epoch 7/10\n",
      "1875/1875 [==============================] - 12s 7ms/step - loss: 0.1054 - accuracy: 0.9662 - val_loss: 0.1041 - val_accuracy: 0.9645\n",
      "Epoch 8/10\n",
      "1875/1875 [==============================] - 12s 7ms/step - loss: 0.0951 - accuracy: 0.9695 - val_loss: 0.1094 - val_accuracy: 0.9649\n",
      "Epoch 9/10\n",
      "1875/1875 [==============================] - 13s 7ms/step - loss: 0.0905 - accuracy: 0.9710 - val_loss: 0.0808 - val_accuracy: 0.9743\n",
      "Epoch 10/10\n",
      "1875/1875 [==============================] - 13s 7ms/step - loss: 0.0804 - accuracy: 0.9748 - val_loss: 0.0779 - val_accuracy: 0.9742\n"
     ]
    }
   ],
   "source": [
    "print(\"[INFO] training network...\")\n",
    "simpleRnn_model.compile(loss=keras.losses.SparseCategoricalCrossentropy(from_logits=True), optimizer=\"sgd\",\n",
    "\tmetrics=[\"accuracy\"])\n",
    "# train the network\n",
    "L = simpleRnn_model.fit(x_train, y_train, epochs=10, validation_data=(x_test, y_test))"
   ]
  },
  {
   "cell_type": "code",
   "execution_count": 26,
   "id": "intended-truck",
   "metadata": {},
   "outputs": [
    {
     "name": "stdout",
     "output_type": "stream",
     "text": [
      "Model: \"my_simple_rnn_model\"\n",
      "_________________________________________________________________\n",
      "Layer (type)                 Output Shape              Param #   \n",
      "=================================================================\n",
      "lstm (LSTM)                  multiple                  23808     \n",
      "_________________________________________________________________\n",
      "batch_normalization_5 (Batch multiple                  256       \n",
      "_________________________________________________________________\n",
      "dense_2 (Dense)              multiple                  650       \n",
      "=================================================================\n",
      "Total params: 24,714\n",
      "Trainable params: 24,586\n",
      "Non-trainable params: 128\n",
      "_________________________________________________________________\n"
     ]
    }
   ],
   "source": [
    "simpleRnn_model.summary()"
   ]
  },
  {
   "cell_type": "code",
   "execution_count": 27,
   "id": "appreciated-termination",
   "metadata": {},
   "outputs": [
    {
     "name": "stdout",
     "output_type": "stream",
     "text": [
      "[INFO] training network...\n",
      "Epoch 1/10\n",
      "1875/1875 [==============================] - 44s 23ms/step - loss: 0.6581 - accuracy: 0.8026 - val_loss: 0.2516 - val_accuracy: 0.9257\n",
      "Epoch 2/10\n",
      "1875/1875 [==============================] - 46s 24ms/step - loss: 0.2827 - accuracy: 0.9167 - val_loss: 0.1931 - val_accuracy: 0.9416\n",
      "Epoch 3/10\n",
      "1875/1875 [==============================] - 45s 24ms/step - loss: 0.2152 - accuracy: 0.9362 - val_loss: 0.1595 - val_accuracy: 0.9516\n",
      "Epoch 4/10\n",
      "1875/1875 [==============================] - 44s 23ms/step - loss: 0.1850 - accuracy: 0.9466 - val_loss: 0.1442 - val_accuracy: 0.9561\n",
      "Epoch 5/10\n",
      "1875/1875 [==============================] - 46s 24ms/step - loss: 0.1658 - accuracy: 0.9509 - val_loss: 0.1316 - val_accuracy: 0.9599\n",
      "Epoch 6/10\n",
      "1875/1875 [==============================] - 48s 25ms/step - loss: 0.1463 - accuracy: 0.9578 - val_loss: 0.1368 - val_accuracy: 0.9591\n",
      "Epoch 7/10\n",
      "1875/1875 [==============================] - 49s 26ms/step - loss: 0.1397 - accuracy: 0.9597 - val_loss: 0.1178 - val_accuracy: 0.9643\n",
      "Epoch 8/10\n",
      "1875/1875 [==============================] - 50s 26ms/step - loss: 0.1266 - accuracy: 0.9629 - val_loss: 0.1235 - val_accuracy: 0.9643\n",
      "Epoch 9/10\n",
      "1875/1875 [==============================] - 47s 25ms/step - loss: 0.1193 - accuracy: 0.9642 - val_loss: 0.1187 - val_accuracy: 0.9633\n",
      "Epoch 10/10\n",
      "1875/1875 [==============================] - 50s 27ms/step - loss: 0.1157 - accuracy: 0.9667 - val_loss: 0.1183 - val_accuracy: 0.9650\n"
     ]
    }
   ],
   "source": [
    "print(\"[INFO] training network...\")\n",
    "gru_model.compile(loss=keras.losses.SparseCategoricalCrossentropy(from_logits=True), optimizer=\"sgd\",\n",
    "\tmetrics=[\"accuracy\"])\n",
    "# train the network\n",
    "G = gru_model.fit(x_train, y_train, epochs=10, validation_data=(x_test, y_test))"
   ]
  },
  {
   "cell_type": "code",
   "execution_count": 28,
   "id": "southeast-rouge",
   "metadata": {},
   "outputs": [
    {
     "name": "stdout",
     "output_type": "stream",
     "text": [
      "Model: \"my_gru_model\"\n",
      "_________________________________________________________________\n",
      "Layer (type)                 Output Shape              Param #   \n",
      "=================================================================\n",
      "gru (GRU)                    multiple                  219648    \n",
      "_________________________________________________________________\n",
      "simple_rnn (SimpleRNN)       multiple                  20544     \n",
      "_________________________________________________________________\n",
      "batch_normalization_6 (Batch multiple                  256       \n",
      "_________________________________________________________________\n",
      "dense_3 (Dense)              multiple                  650       \n",
      "=================================================================\n",
      "Total params: 241,098\n",
      "Trainable params: 240,970\n",
      "Non-trainable params: 128\n",
      "_________________________________________________________________\n"
     ]
    }
   ],
   "source": [
    "gru_model.summary()"
   ]
  },
  {
   "cell_type": "code",
   "execution_count": 29,
   "id": "defined-frontier",
   "metadata": {},
   "outputs": [
    {
     "name": "stdout",
     "output_type": "stream",
     "text": [
      "[INFO] training network...\n",
      "Epoch 1/10\n",
      "1875/1875 [==============================] - 41s 18ms/step - loss: 0.9555 - accuracy: 0.7041 - val_loss: 0.2820 - val_accuracy: 0.9141\n",
      "Epoch 2/10\n",
      "1875/1875 [==============================] - 29s 15ms/step - loss: 0.2811 - accuracy: 0.9136 - val_loss: 0.2250 - val_accuracy: 0.9249\n",
      "Epoch 3/10\n",
      "1875/1875 [==============================] - 29s 15ms/step - loss: 0.1789 - accuracy: 0.9450 - val_loss: 0.1369 - val_accuracy: 0.9548\n",
      "Epoch 4/10\n",
      "1875/1875 [==============================] - 29s 15ms/step - loss: 0.1468 - accuracy: 0.9549 - val_loss: 0.1444 - val_accuracy: 0.9517\n",
      "Epoch 5/10\n",
      "1875/1875 [==============================] - 32s 17ms/step - loss: 0.1196 - accuracy: 0.9625 - val_loss: 0.1164 - val_accuracy: 0.9593\n",
      "Epoch 6/10\n",
      "1875/1875 [==============================] - 30s 16ms/step - loss: 0.1091 - accuracy: 0.9655 - val_loss: 0.1294 - val_accuracy: 0.9580\n",
      "Epoch 7/10\n",
      "1875/1875 [==============================] - 31s 17ms/step - loss: 0.0941 - accuracy: 0.9712 - val_loss: 0.0851 - val_accuracy: 0.9702\n",
      "Epoch 8/10\n",
      "1875/1875 [==============================] - 30s 16ms/step - loss: 0.0876 - accuracy: 0.9719 - val_loss: 0.0895 - val_accuracy: 0.9680\n",
      "Epoch 9/10\n",
      "1875/1875 [==============================] - 29s 16ms/step - loss: 0.0843 - accuracy: 0.9731 - val_loss: 0.0754 - val_accuracy: 0.9755\n",
      "Epoch 10/10\n",
      "1875/1875 [==============================] - 31s 16ms/step - loss: 0.0750 - accuracy: 0.9765 - val_loss: 0.0872 - val_accuracy: 0.9695\n"
     ]
    }
   ],
   "source": [
    "print(\"[INFO] training network...\")\n",
    "biRnn_model.compile(loss=keras.losses.SparseCategoricalCrossentropy(from_logits=True), optimizer=\"sgd\",\n",
    "\tmetrics=[\"accuracy\"])\n",
    "# train the network\n",
    "B = biRnn_model.fit(x_train, y_train, epochs=10, validation_data=(x_test, y_test))"
   ]
  },
  {
   "cell_type": "code",
   "execution_count": 30,
   "id": "promotional-inspection",
   "metadata": {},
   "outputs": [
    {
     "name": "stdout",
     "output_type": "stream",
     "text": [
      "Model: \"my_bi_rnn_model\"\n",
      "_________________________________________________________________\n",
      "Layer (type)                 Output Shape              Param #   \n",
      "=================================================================\n",
      "bidirectional (Bidirectional multiple                  47616     \n",
      "_________________________________________________________________\n",
      "bidirectional_1 (Bidirection multiple                  41216     \n",
      "_________________________________________________________________\n",
      "batch_normalization_7 (Batch multiple                  256       \n",
      "_________________________________________________________________\n",
      "dense_4 (Dense)              multiple                  650       \n",
      "=================================================================\n",
      "Total params: 89,738\n",
      "Trainable params: 89,610\n",
      "Non-trainable params: 128\n",
      "_________________________________________________________________\n"
     ]
    }
   ],
   "source": [
    "biRnn_model.summary()"
   ]
  },
  {
   "cell_type": "markdown",
   "id": "pressed-entrance",
   "metadata": {},
   "source": [
    "**Step3: Model evaluation**"
   ]
  },
  {
   "cell_type": "code",
   "execution_count": 31,
   "id": "adjusted-stock",
   "metadata": {},
   "outputs": [
    {
     "name": "stdout",
     "output_type": "stream",
     "text": [
      "[INFO] evaluating network...\n",
      "313/313 [==============================] - 1s 2ms/step - loss: 0.0779 - accuracy: 0.9742\n",
      "0.07786523550748825 0.9742000102996826\n"
     ]
    }
   ],
   "source": [
    "# Calculate Validation Loss and Validation Accuracy and compare with above one\n",
    "print(\"[INFO] evaluating network...\")\n",
    "val_loss_1, val_acc_1 = simpleRnn_model.evaluate(x_test, y_test)\n",
    "print(val_loss_1, val_acc_1)"
   ]
  },
  {
   "cell_type": "code",
   "execution_count": 32,
   "id": "about-evans",
   "metadata": {},
   "outputs": [
    {
     "name": "stdout",
     "output_type": "stream",
     "text": [
      "[INFO] evaluating network...\n",
      "313/313 [==============================] - 2s 7ms/step - loss: 0.1183 - accuracy: 0.9650\n",
      "0.11831793189048767 0.9649999737739563\n"
     ]
    }
   ],
   "source": [
    "# Calculate Validation Loss and Validation Accuracy and compare with above one\n",
    "print(\"[INFO] evaluating network...\")\n",
    "val_loss_2, val_acc_2 = gru_model.evaluate(x_test, y_test)\n",
    "print(val_loss_2, val_acc_2)"
   ]
  },
  {
   "cell_type": "code",
   "execution_count": 33,
   "id": "acknowledged-bosnia",
   "metadata": {},
   "outputs": [
    {
     "name": "stdout",
     "output_type": "stream",
     "text": [
      "[INFO] evaluating network...\n",
      "313/313 [==============================] - 2s 5ms/step - loss: 0.0872 - accuracy: 0.9695\n",
      "0.08718202263116837 0.9695000052452087\n"
     ]
    }
   ],
   "source": [
    "# Calculate Validation Loss and Validation Accuracy and compare with above one\n",
    "print(\"[INFO] evaluating network...\")\n",
    "val_loss_3, val_acc_3 = biRnn_model.evaluate(x_test, y_test)\n",
    "print(val_loss_3, val_acc_3)"
   ]
  },
  {
   "cell_type": "code",
   "execution_count": 35,
   "id": "august-activation",
   "metadata": {},
   "outputs": [
    {
     "name": "stdout",
     "output_type": "stream",
     "text": [
      "              precision    recall  f1-score   support\n",
      "\n",
      "           0       0.98      0.99      0.99       980\n",
      "           1       0.98      0.99      0.99      1135\n",
      "           2       0.97      0.98      0.97      1032\n",
      "           3       0.99      0.97      0.98      1010\n",
      "           4       0.94      0.99      0.96       982\n",
      "           5       0.99      0.97      0.98       892\n",
      "           6       0.96      0.99      0.98       958\n",
      "           7       0.98      0.95      0.97      1028\n",
      "           8       0.97      0.97      0.97       974\n",
      "           9       0.98      0.94      0.96      1009\n",
      "\n",
      "    accuracy                           0.97     10000\n",
      "   macro avg       0.97      0.97      0.97     10000\n",
      "weighted avg       0.97      0.97      0.97     10000\n",
      "\n"
     ]
    }
   ],
   "source": [
    "# evaluate the network\n",
    "labelNames = ['0', '1', '2', '3', '4', '5', '6', '7', '8', '9']\n",
    "predictions1 = simpleRnn_model.predict(x_test, batch_size=BATCH_SIZE)\n",
    "print(classification_report(test_labels.argmax(axis=1),\n",
    "\tpredictions1.argmax(axis=1), target_names=labelNames))"
   ]
  },
  {
   "cell_type": "code",
   "execution_count": 36,
   "id": "catholic-southeast",
   "metadata": {},
   "outputs": [
    {
     "name": "stdout",
     "output_type": "stream",
     "text": [
      "              precision    recall  f1-score   support\n",
      "\n",
      "           0       0.98      0.98      0.98       980\n",
      "           1       0.97      0.99      0.98      1135\n",
      "           2       0.95      0.98      0.97      1032\n",
      "           3       0.97      0.96      0.96      1010\n",
      "           4       0.93      0.98      0.95       982\n",
      "           5       0.96      0.95      0.96       892\n",
      "           6       0.98      0.97      0.97       958\n",
      "           7       0.96      0.96      0.96      1028\n",
      "           8       0.98      0.93      0.95       974\n",
      "           9       0.96      0.94      0.95      1009\n",
      "\n",
      "    accuracy                           0.96     10000\n",
      "   macro avg       0.97      0.96      0.96     10000\n",
      "weighted avg       0.97      0.96      0.96     10000\n",
      "\n"
     ]
    }
   ],
   "source": [
    "# evaluate the network\n",
    "labelNames = ['0', '1', '2', '3', '4', '5', '6', '7', '8', '9']\n",
    "predictions2 = gru_model.predict(x_test, batch_size=BATCH_SIZE)\n",
    "print(classification_report(test_labels.argmax(axis=1),\n",
    "\tpredictions2.argmax(axis=1), target_names=labelNames))"
   ]
  },
  {
   "cell_type": "code",
   "execution_count": 37,
   "id": "animal-renewal",
   "metadata": {},
   "outputs": [
    {
     "name": "stdout",
     "output_type": "stream",
     "text": [
      "              precision    recall  f1-score   support\n",
      "\n",
      "           0       0.98      0.99      0.99       980\n",
      "           1       0.98      1.00      0.99      1135\n",
      "           2       0.99      0.96      0.97      1032\n",
      "           3       0.96      0.97      0.97      1010\n",
      "           4       0.99      0.96      0.97       982\n",
      "           5       0.90      1.00      0.95       892\n",
      "           6       0.99      0.97      0.98       958\n",
      "           7       0.98      0.95      0.97      1028\n",
      "           8       1.00      0.91      0.95       974\n",
      "           9       0.93      0.99      0.96      1009\n",
      "\n",
      "    accuracy                           0.97     10000\n",
      "   macro avg       0.97      0.97      0.97     10000\n",
      "weighted avg       0.97      0.97      0.97     10000\n",
      "\n"
     ]
    }
   ],
   "source": [
    "# evaluate the network\n",
    "labelNames = ['0', '1', '2', '3', '4', '5', '6', '7', '8', '9']\n",
    "predictions3 = biRnn_model.predict(x_test, batch_size=BATCH_SIZE)\n",
    "print(classification_report(test_labels.argmax(axis=1),\n",
    "\tpredictions3.argmax(axis=1), target_names=labelNames))"
   ]
  },
  {
   "cell_type": "code",
   "execution_count": 38,
   "id": "possible-mercury",
   "metadata": {},
   "outputs": [
    {
     "data": {
      "image/png": "[encoded data removed]",
      "text/plain": [
       "<PIL.PngImagePlugin.PngImageFile image mode=RGBA size=640x480 at 0x20BE00BB7F0>"
      ]
     },
     "metadata": {},
     "output_type": "display_data"
    }
   ],
   "source": [
    "N = np.arange(0, 10)\n",
    "title = \"Accuracy on MNIST (RNN_model)\"\n",
    "# plot the training loss and accuracy\n",
    "plt.style.use(\"ggplot\")\n",
    "plt.figure()\n",
    "plt.plot(N, L.history[\"accuracy\"], label=\"SimpleRNN\")\n",
    "plt.plot(N, G.history[\"accuracy\"], label=\"SimpleGRU\")\n",
    "plt.plot(N, B.history[\"accuracy\"], label=\"BiRNN\")\n",
    "plt.title(title)\n",
    "plt.xlabel(\"Epoch #\")\n",
    "plt.ylabel(\"Accuracy\")\n",
    "plt.legend()\n",
    "plt.savefig(\"my_rnn_model_plot.png\")\n",
    "display(Image.open(\"my_rnn_model_plot.png\"))"
   ]
  },
  {
   "cell_type": "markdown",
   "id": "ordinary-angola",
   "metadata": {},
   "source": [
    "**Step5: Save Our Model**"
   ]
  },
  {
   "cell_type": "code",
   "execution_count": 39,
   "id": "informal-photography",
   "metadata": {},
   "outputs": [
    {
     "name": "stderr",
     "output_type": "stream",
     "text": [
      "WARNING:absl:Found untraced functions such as lstm_cell_layer_call_and_return_conditional_losses, lstm_cell_layer_call_fn, lstm_cell_layer_call_fn, lstm_cell_layer_call_and_return_conditional_losses, lstm_cell_layer_call_and_return_conditional_losses while saving (showing 5 of 5). These functions will not be directly callable after loading.\n",
      "WARNING:absl:Found untraced functions such as lstm_cell_layer_call_and_return_conditional_losses, lstm_cell_layer_call_fn, lstm_cell_layer_call_fn, lstm_cell_layer_call_and_return_conditional_losses, lstm_cell_layer_call_and_return_conditional_losses while saving (showing 5 of 5). These functions will not be directly callable after loading.\n"
     ]
    }
   ],
   "source": [
    "# Save this DL Model for the future use\n",
    "simpleRnn_model.save('SimpleRNN.model1')"
   ]
  },
  {
   "cell_type": "code",
   "execution_count": 40,
   "id": "fleet-twist",
   "metadata": {},
   "outputs": [],
   "source": [
    "# Save this DL Model for the future use\n",
    "gru_model.save('SimpleGRU.model1')"
   ]
  },
  {
   "cell_type": "code",
   "execution_count": 41,
   "id": "developed-ghost",
   "metadata": {},
   "outputs": [
    {
     "name": "stderr",
     "output_type": "stream",
     "text": [
      "WARNING:absl:Found untraced functions such as lstm_cell_2_layer_call_and_return_conditional_losses, lstm_cell_2_layer_call_fn, lstm_cell_3_layer_call_and_return_conditional_losses, lstm_cell_3_layer_call_fn, lstm_cell_5_layer_call_and_return_conditional_losses while saving (showing 5 of 20). These functions will not be directly callable after loading.\n",
      "WARNING:absl:Found untraced functions such as lstm_cell_2_layer_call_and_return_conditional_losses, lstm_cell_2_layer_call_fn, lstm_cell_3_layer_call_and_return_conditional_losses, lstm_cell_3_layer_call_fn, lstm_cell_5_layer_call_and_return_conditional_losses while saving (showing 5 of 20). These functions will not be directly callable after loading.\n"
     ]
    }
   ],
   "source": [
    "# Save this DL Model for the future use\n",
    "biRnn_model.save('BiRNN.model1')"
   ]
  },
  {
   "cell_type": "markdown",
   "id": "modified-utility",
   "metadata": {},
   "source": [
    "## Summary"
   ]
  },
  {
   "cell_type": "markdown",
   "id": "level-speed",
   "metadata": {},
   "source": [
    "In this assignment on model-subclassing, I introduce model-subclassing, which is very similar to functional APIs, but has disadvantages in time and space, but allows the researcher to better control our network structure intermediate processes. In this assignment, **I have implemented four network structures, VGG, three different rnn network structures,** VGG is a very good network structure and is much more efficient than the goolenet I used in my last assignment. In the rnn, I implemented simple rnn, simple gru and bidirectional rnn networks by treating each column vector of mnist as a time series input. I found that the rnn network was not as good as the vgg network in the training process, probably because the rnn network I designed was simpler. I am looking forward to future applications, but with the recent rise of transformer, more and more network structures are using transformer, and I still need to keep learning this."
   ]
  }
 ],
 "metadata": {
  "kernelspec": {
   "display_name": "Python 3",
   "language": "python",
   "name": "python3"
  },
  "language_info": {
   "codemirror_mode": {
    "name": "ipython",
    "version": 3
   },
   "file_extension": ".py",
   "mimetype": "text/x-python",
   "name": "python",
   "nbconvert_exporter": "python",
   "pygments_lexer": "ipython3",
   "version": "3.8.8"
  }
 },
 "nbformat": 4,
 "nbformat_minor": 5
}
